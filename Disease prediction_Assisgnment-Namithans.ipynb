{
 "cells": [
  {
   "cell_type": "markdown",
   "id": "7cb67215",
   "metadata": {},
   "source": [
    "# Importing the libraries & loading the data"
   ]
  },
  {
   "cell_type": "code",
   "execution_count": 1,
   "id": "7ef9aae5",
   "metadata": {},
   "outputs": [],
   "source": [
    "import pandas as pd\n",
    "import numpy as np\n",
    "import matplotlib.pyplot as plt\n",
    "import numpy as np\n",
    "import seaborn as sns"
   ]
  },
  {
   "cell_type": "code",
   "execution_count": 2,
   "id": "666d28d2",
   "metadata": {},
   "outputs": [],
   "source": [
    "data1=pd.read_excel(\"Biostatistician_Challenge_Dataset.xlsx\")"
   ]
  },
  {
   "cell_type": "code",
   "execution_count": 3,
   "id": "fefae69a",
   "metadata": {},
   "outputs": [
    {
     "data": {
      "text/html": [
       "<div>\n",
       "<style scoped>\n",
       "    .dataframe tbody tr th:only-of-type {\n",
       "        vertical-align: middle;\n",
       "    }\n",
       "\n",
       "    .dataframe tbody tr th {\n",
       "        vertical-align: top;\n",
       "    }\n",
       "\n",
       "    .dataframe thead th {\n",
       "        text-align: right;\n",
       "    }\n",
       "</style>\n",
       "<table border=\"1\" class=\"dataframe\">\n",
       "  <thead>\n",
       "    <tr style=\"text-align: right;\">\n",
       "      <th></th>\n",
       "      <th>person_id</th>\n",
       "      <th>tobacco_consumption</th>\n",
       "      <th>alcohol_consumption</th>\n",
       "      <th>sdh_occupational_risk</th>\n",
       "      <th>gender</th>\n",
       "      <th>religion</th>\n",
       "      <th>caste</th>\n",
       "      <th>is_literate</th>\n",
       "      <th>age</th>\n",
       "      <th>education_status</th>\n",
       "      <th>occupation_status</th>\n",
       "      <th>primary_cooking_fuel</th>\n",
       "      <th>primary_drinking_water</th>\n",
       "      <th>primary_toilet</th>\n",
       "      <th>primary_transport</th>\n",
       "      <th>toilet_usage_status</th>\n",
       "      <th>primary_electricity</th>\n",
       "      <th>primary_house_material</th>\n",
       "      <th>diseases</th>\n",
       "    </tr>\n",
       "  </thead>\n",
       "  <tbody>\n",
       "    <tr>\n",
       "      <th>0</th>\n",
       "      <td>3177498</td>\n",
       "      <td>In past/sometimes</td>\n",
       "      <td>Yes</td>\n",
       "      <td>9.0</td>\n",
       "      <td>M</td>\n",
       "      <td>1</td>\n",
       "      <td>3</td>\n",
       "      <td>Yes</td>\n",
       "      <td>30.0</td>\n",
       "      <td>Primary 1-5th</td>\n",
       "      <td>5.0</td>\n",
       "      <td>1</td>\n",
       "      <td>5.0</td>\n",
       "      <td>6.0</td>\n",
       "      <td>Motorcycle (Two wheeler)</td>\n",
       "      <td>0.0</td>\n",
       "      <td>1.0</td>\n",
       "      <td>1</td>\n",
       "      <td>0</td>\n",
       "    </tr>\n",
       "    <tr>\n",
       "      <th>1</th>\n",
       "      <td>3177499</td>\n",
       "      <td>NaN</td>\n",
       "      <td>NaN</td>\n",
       "      <td>0.0</td>\n",
       "      <td>F</td>\n",
       "      <td>0</td>\n",
       "      <td>0</td>\n",
       "      <td>No</td>\n",
       "      <td>2.0</td>\n",
       "      <td>0</td>\n",
       "      <td>0.0</td>\n",
       "      <td>1</td>\n",
       "      <td>5.0</td>\n",
       "      <td>6.0</td>\n",
       "      <td>Motorcycle (Two wheeler)</td>\n",
       "      <td>0.0</td>\n",
       "      <td>1.0</td>\n",
       "      <td>1</td>\n",
       "      <td>0</td>\n",
       "    </tr>\n",
       "    <tr>\n",
       "      <th>2</th>\n",
       "      <td>3177500</td>\n",
       "      <td>In past/sometimes</td>\n",
       "      <td>Yes</td>\n",
       "      <td>0.0</td>\n",
       "      <td>F</td>\n",
       "      <td>1</td>\n",
       "      <td>3</td>\n",
       "      <td>Yes</td>\n",
       "      <td>29.0</td>\n",
       "      <td>Middle 6-8th</td>\n",
       "      <td>9.0</td>\n",
       "      <td>1</td>\n",
       "      <td>5.0</td>\n",
       "      <td>6.0</td>\n",
       "      <td>Motorcycle (Two wheeler)</td>\n",
       "      <td>0.0</td>\n",
       "      <td>1.0</td>\n",
       "      <td>1</td>\n",
       "      <td>0</td>\n",
       "    </tr>\n",
       "    <tr>\n",
       "      <th>3</th>\n",
       "      <td>3177501</td>\n",
       "      <td>NaN</td>\n",
       "      <td>NaN</td>\n",
       "      <td>0.0</td>\n",
       "      <td>F</td>\n",
       "      <td>0</td>\n",
       "      <td>0</td>\n",
       "      <td>No</td>\n",
       "      <td>68.0</td>\n",
       "      <td>0</td>\n",
       "      <td>0.0</td>\n",
       "      <td>0</td>\n",
       "      <td>0.0</td>\n",
       "      <td>0.0</td>\n",
       "      <td>0</td>\n",
       "      <td>0.0</td>\n",
       "      <td>0.0</td>\n",
       "      <td>0</td>\n",
       "      <td>0</td>\n",
       "    </tr>\n",
       "    <tr>\n",
       "      <th>4</th>\n",
       "      <td>3177502</td>\n",
       "      <td>In past/sometimes</td>\n",
       "      <td>Yes</td>\n",
       "      <td>9.0</td>\n",
       "      <td>M</td>\n",
       "      <td>1</td>\n",
       "      <td>3</td>\n",
       "      <td>Yes</td>\n",
       "      <td>22.0</td>\n",
       "      <td>Primary 1-5th</td>\n",
       "      <td>5.0</td>\n",
       "      <td>0</td>\n",
       "      <td>0.0</td>\n",
       "      <td>0.0</td>\n",
       "      <td>0</td>\n",
       "      <td>0.0</td>\n",
       "      <td>0.0</td>\n",
       "      <td>0</td>\n",
       "      <td>0</td>\n",
       "    </tr>\n",
       "    <tr>\n",
       "      <th>5</th>\n",
       "      <td>3177503</td>\n",
       "      <td>Never</td>\n",
       "      <td>No</td>\n",
       "      <td>0.0</td>\n",
       "      <td>F</td>\n",
       "      <td>1</td>\n",
       "      <td>3</td>\n",
       "      <td>Yes</td>\n",
       "      <td>24.0</td>\n",
       "      <td>Middle 6-8th</td>\n",
       "      <td>9.0</td>\n",
       "      <td>0</td>\n",
       "      <td>0.0</td>\n",
       "      <td>0.0</td>\n",
       "      <td>0</td>\n",
       "      <td>0.0</td>\n",
       "      <td>0.0</td>\n",
       "      <td>0</td>\n",
       "      <td>0</td>\n",
       "    </tr>\n",
       "    <tr>\n",
       "      <th>6</th>\n",
       "      <td>3564728</td>\n",
       "      <td>NaN</td>\n",
       "      <td>No</td>\n",
       "      <td>0.0</td>\n",
       "      <td>M</td>\n",
       "      <td>1</td>\n",
       "      <td>3</td>\n",
       "      <td>No</td>\n",
       "      <td>13.0</td>\n",
       "      <td>0</td>\n",
       "      <td>0.0</td>\n",
       "      <td>6</td>\n",
       "      <td>5.0</td>\n",
       "      <td>2.0</td>\n",
       "      <td>6</td>\n",
       "      <td>2.0</td>\n",
       "      <td>1.0</td>\n",
       "      <td>Made of clay and slurry (Kachcha-Pakka)</td>\n",
       "      <td>0</td>\n",
       "    </tr>\n",
       "    <tr>\n",
       "      <th>7</th>\n",
       "      <td>3564729</td>\n",
       "      <td>NaN</td>\n",
       "      <td>No</td>\n",
       "      <td>0.0</td>\n",
       "      <td>F</td>\n",
       "      <td>1</td>\n",
       "      <td>3</td>\n",
       "      <td>No</td>\n",
       "      <td>11.0</td>\n",
       "      <td>0</td>\n",
       "      <td>0.0</td>\n",
       "      <td>6</td>\n",
       "      <td>5.0</td>\n",
       "      <td>2.0</td>\n",
       "      <td>6</td>\n",
       "      <td>2.0</td>\n",
       "      <td>1.0</td>\n",
       "      <td>Made of clay and slurry (Kachcha-Pakka)</td>\n",
       "      <td>0</td>\n",
       "    </tr>\n",
       "    <tr>\n",
       "      <th>8</th>\n",
       "      <td>3564730</td>\n",
       "      <td>Never</td>\n",
       "      <td>No</td>\n",
       "      <td>0.0</td>\n",
       "      <td>F</td>\n",
       "      <td>1</td>\n",
       "      <td>3</td>\n",
       "      <td>No</td>\n",
       "      <td>42.0</td>\n",
       "      <td>0</td>\n",
       "      <td>9.0</td>\n",
       "      <td>6</td>\n",
       "      <td>5.0</td>\n",
       "      <td>2.0</td>\n",
       "      <td>6</td>\n",
       "      <td>2.0</td>\n",
       "      <td>1.0</td>\n",
       "      <td>Made of clay and slurry (Kachcha-Pakka)</td>\n",
       "      <td>0</td>\n",
       "    </tr>\n",
       "    <tr>\n",
       "      <th>9</th>\n",
       "      <td>3564731</td>\n",
       "      <td>Never</td>\n",
       "      <td>No</td>\n",
       "      <td>0.0</td>\n",
       "      <td>M</td>\n",
       "      <td>1</td>\n",
       "      <td>3</td>\n",
       "      <td>No</td>\n",
       "      <td>16.0</td>\n",
       "      <td>0</td>\n",
       "      <td>0.0</td>\n",
       "      <td>6</td>\n",
       "      <td>5.0</td>\n",
       "      <td>2.0</td>\n",
       "      <td>6</td>\n",
       "      <td>2.0</td>\n",
       "      <td>1.0</td>\n",
       "      <td>Made of clay and slurry (Kachcha-Pakka)</td>\n",
       "      <td>0</td>\n",
       "    </tr>\n",
       "  </tbody>\n",
       "</table>\n",
       "</div>"
      ],
      "text/plain": [
       "   person_id tobacco_consumption alcohol_consumption  sdh_occupational_risk  \\\n",
       "0    3177498   In past/sometimes                 Yes                    9.0   \n",
       "1    3177499                 NaN                 NaN                    0.0   \n",
       "2    3177500   In past/sometimes                 Yes                    0.0   \n",
       "3    3177501                 NaN                 NaN                    0.0   \n",
       "4    3177502   In past/sometimes                 Yes                    9.0   \n",
       "5    3177503               Never                  No                    0.0   \n",
       "6    3564728                 NaN                  No                    0.0   \n",
       "7    3564729                 NaN                  No                    0.0   \n",
       "8    3564730               Never                  No                    0.0   \n",
       "9    3564731               Never                  No                    0.0   \n",
       "\n",
       "  gender  religion  caste is_literate   age education_status  \\\n",
       "0      M         1      3         Yes  30.0    Primary 1-5th   \n",
       "1      F         0      0          No   2.0                0   \n",
       "2      F         1      3         Yes  29.0     Middle 6-8th   \n",
       "3      F         0      0          No  68.0                0   \n",
       "4      M         1      3         Yes  22.0    Primary 1-5th   \n",
       "5      F         1      3         Yes  24.0     Middle 6-8th   \n",
       "6      M         1      3          No  13.0                0   \n",
       "7      F         1      3          No  11.0                0   \n",
       "8      F         1      3          No  42.0                0   \n",
       "9      M         1      3          No  16.0                0   \n",
       "\n",
       "   occupation_status primary_cooking_fuel  primary_drinking_water  \\\n",
       "0                5.0                    1                     5.0   \n",
       "1                0.0                    1                     5.0   \n",
       "2                9.0                    1                     5.0   \n",
       "3                0.0                    0                     0.0   \n",
       "4                5.0                    0                     0.0   \n",
       "5                9.0                    0                     0.0   \n",
       "6                0.0                    6                     5.0   \n",
       "7                0.0                    6                     5.0   \n",
       "8                9.0                    6                     5.0   \n",
       "9                0.0                    6                     5.0   \n",
       "\n",
       "   primary_toilet         primary_transport  toilet_usage_status  \\\n",
       "0             6.0  Motorcycle (Two wheeler)                  0.0   \n",
       "1             6.0  Motorcycle (Two wheeler)                  0.0   \n",
       "2             6.0  Motorcycle (Two wheeler)                  0.0   \n",
       "3             0.0                         0                  0.0   \n",
       "4             0.0                         0                  0.0   \n",
       "5             0.0                         0                  0.0   \n",
       "6             2.0                         6                  2.0   \n",
       "7             2.0                         6                  2.0   \n",
       "8             2.0                         6                  2.0   \n",
       "9             2.0                         6                  2.0   \n",
       "\n",
       "   primary_electricity                   primary_house_material  diseases  \n",
       "0                  1.0                                        1         0  \n",
       "1                  1.0                                        1         0  \n",
       "2                  1.0                                        1         0  \n",
       "3                  0.0                                        0         0  \n",
       "4                  0.0                                        0         0  \n",
       "5                  0.0                                        0         0  \n",
       "6                  1.0  Made of clay and slurry (Kachcha-Pakka)         0  \n",
       "7                  1.0  Made of clay and slurry (Kachcha-Pakka)         0  \n",
       "8                  1.0  Made of clay and slurry (Kachcha-Pakka)         0  \n",
       "9                  1.0  Made of clay and slurry (Kachcha-Pakka)         0  "
      ]
     },
     "execution_count": 3,
     "metadata": {},
     "output_type": "execute_result"
    }
   ],
   "source": [
    "data1.head(10)"
   ]
  },
  {
   "cell_type": "markdown",
   "id": "f0364678",
   "metadata": {},
   "source": [
    "# Data understanding"
   ]
  },
  {
   "cell_type": "code",
   "execution_count": 4,
   "id": "4d2a6c6d",
   "metadata": {},
   "outputs": [
    {
     "data": {
      "text/plain": [
       "(139043, 19)"
      ]
     },
     "execution_count": 4,
     "metadata": {},
     "output_type": "execute_result"
    }
   ],
   "source": [
    "data1.shape"
   ]
  },
  {
   "cell_type": "code",
   "execution_count": 5,
   "id": "78c2e6d5",
   "metadata": {},
   "outputs": [
    {
     "data": {
      "text/html": [
       "<div>\n",
       "<style scoped>\n",
       "    .dataframe tbody tr th:only-of-type {\n",
       "        vertical-align: middle;\n",
       "    }\n",
       "\n",
       "    .dataframe tbody tr th {\n",
       "        vertical-align: top;\n",
       "    }\n",
       "\n",
       "    .dataframe thead th {\n",
       "        text-align: right;\n",
       "    }\n",
       "</style>\n",
       "<table border=\"1\" class=\"dataframe\">\n",
       "  <thead>\n",
       "    <tr style=\"text-align: right;\">\n",
       "      <th></th>\n",
       "      <th>person_id</th>\n",
       "      <th>sdh_occupational_risk</th>\n",
       "      <th>religion</th>\n",
       "      <th>caste</th>\n",
       "      <th>age</th>\n",
       "      <th>occupation_status</th>\n",
       "      <th>primary_drinking_water</th>\n",
       "      <th>primary_toilet</th>\n",
       "      <th>toilet_usage_status</th>\n",
       "      <th>primary_electricity</th>\n",
       "      <th>diseases</th>\n",
       "    </tr>\n",
       "  </thead>\n",
       "  <tbody>\n",
       "    <tr>\n",
       "      <th>count</th>\n",
       "      <td>1.390430e+05</td>\n",
       "      <td>137812.000000</td>\n",
       "      <td>139043.000000</td>\n",
       "      <td>139043.000000</td>\n",
       "      <td>113049.000000</td>\n",
       "      <td>138388.000000</td>\n",
       "      <td>135068.000000</td>\n",
       "      <td>135068.000000</td>\n",
       "      <td>133479.000000</td>\n",
       "      <td>135068.000000</td>\n",
       "      <td>139043.000000</td>\n",
       "    </tr>\n",
       "    <tr>\n",
       "      <th>mean</th>\n",
       "      <td>1.865410e+06</td>\n",
       "      <td>3.343054</td>\n",
       "      <td>0.950152</td>\n",
       "      <td>2.379602</td>\n",
       "      <td>30.128334</td>\n",
       "      <td>3.248237</td>\n",
       "      <td>4.087082</td>\n",
       "      <td>3.464159</td>\n",
       "      <td>0.587695</td>\n",
       "      <td>0.989968</td>\n",
       "      <td>0.032896</td>\n",
       "    </tr>\n",
       "    <tr>\n",
       "      <th>std</th>\n",
       "      <td>1.325424e+06</td>\n",
       "      <td>4.254496</td>\n",
       "      <td>0.570509</td>\n",
       "      <td>1.235876</td>\n",
       "      <td>20.086139</td>\n",
       "      <td>3.234125</td>\n",
       "      <td>1.962417</td>\n",
       "      <td>2.473946</td>\n",
       "      <td>0.807194</td>\n",
       "      <td>0.722426</td>\n",
       "      <td>0.178366</td>\n",
       "    </tr>\n",
       "    <tr>\n",
       "      <th>min</th>\n",
       "      <td>9.200000e+01</td>\n",
       "      <td>0.000000</td>\n",
       "      <td>0.000000</td>\n",
       "      <td>0.000000</td>\n",
       "      <td>0.000000</td>\n",
       "      <td>0.000000</td>\n",
       "      <td>0.000000</td>\n",
       "      <td>0.000000</td>\n",
       "      <td>0.000000</td>\n",
       "      <td>0.000000</td>\n",
       "      <td>0.000000</td>\n",
       "    </tr>\n",
       "    <tr>\n",
       "      <th>25%</th>\n",
       "      <td>2.386855e+05</td>\n",
       "      <td>0.000000</td>\n",
       "      <td>1.000000</td>\n",
       "      <td>1.000000</td>\n",
       "      <td>14.000000</td>\n",
       "      <td>0.000000</td>\n",
       "      <td>3.000000</td>\n",
       "      <td>1.000000</td>\n",
       "      <td>0.000000</td>\n",
       "      <td>1.000000</td>\n",
       "      <td>0.000000</td>\n",
       "    </tr>\n",
       "    <tr>\n",
       "      <th>50%</th>\n",
       "      <td>2.165214e+06</td>\n",
       "      <td>0.000000</td>\n",
       "      <td>1.000000</td>\n",
       "      <td>3.000000</td>\n",
       "      <td>26.000000</td>\n",
       "      <td>4.000000</td>\n",
       "      <td>5.000000</td>\n",
       "      <td>3.000000</td>\n",
       "      <td>0.000000</td>\n",
       "      <td>1.000000</td>\n",
       "      <td>0.000000</td>\n",
       "    </tr>\n",
       "    <tr>\n",
       "      <th>75%</th>\n",
       "      <td>3.055472e+06</td>\n",
       "      <td>9.000000</td>\n",
       "      <td>1.000000</td>\n",
       "      <td>3.000000</td>\n",
       "      <td>43.000000</td>\n",
       "      <td>6.000000</td>\n",
       "      <td>5.000000</td>\n",
       "      <td>6.000000</td>\n",
       "      <td>1.000000</td>\n",
       "      <td>1.000000</td>\n",
       "      <td>0.000000</td>\n",
       "    </tr>\n",
       "    <tr>\n",
       "      <th>max</th>\n",
       "      <td>3.829822e+06</td>\n",
       "      <td>9.000000</td>\n",
       "      <td>7.000000</td>\n",
       "      <td>5.000000</td>\n",
       "      <td>120.000000</td>\n",
       "      <td>10.000000</td>\n",
       "      <td>11.000000</td>\n",
       "      <td>7.000000</td>\n",
       "      <td>3.000000</td>\n",
       "      <td>5.000000</td>\n",
       "      <td>1.000000</td>\n",
       "    </tr>\n",
       "  </tbody>\n",
       "</table>\n",
       "</div>"
      ],
      "text/plain": [
       "          person_id  sdh_occupational_risk       religion          caste  \\\n",
       "count  1.390430e+05          137812.000000  139043.000000  139043.000000   \n",
       "mean   1.865410e+06               3.343054       0.950152       2.379602   \n",
       "std    1.325424e+06               4.254496       0.570509       1.235876   \n",
       "min    9.200000e+01               0.000000       0.000000       0.000000   \n",
       "25%    2.386855e+05               0.000000       1.000000       1.000000   \n",
       "50%    2.165214e+06               0.000000       1.000000       3.000000   \n",
       "75%    3.055472e+06               9.000000       1.000000       3.000000   \n",
       "max    3.829822e+06               9.000000       7.000000       5.000000   \n",
       "\n",
       "                 age  occupation_status  primary_drinking_water  \\\n",
       "count  113049.000000      138388.000000           135068.000000   \n",
       "mean       30.128334           3.248237                4.087082   \n",
       "std        20.086139           3.234125                1.962417   \n",
       "min         0.000000           0.000000                0.000000   \n",
       "25%        14.000000           0.000000                3.000000   \n",
       "50%        26.000000           4.000000                5.000000   \n",
       "75%        43.000000           6.000000                5.000000   \n",
       "max       120.000000          10.000000               11.000000   \n",
       "\n",
       "       primary_toilet  toilet_usage_status  primary_electricity       diseases  \n",
       "count   135068.000000        133479.000000        135068.000000  139043.000000  \n",
       "mean         3.464159             0.587695             0.989968       0.032896  \n",
       "std          2.473946             0.807194             0.722426       0.178366  \n",
       "min          0.000000             0.000000             0.000000       0.000000  \n",
       "25%          1.000000             0.000000             1.000000       0.000000  \n",
       "50%          3.000000             0.000000             1.000000       0.000000  \n",
       "75%          6.000000             1.000000             1.000000       0.000000  \n",
       "max          7.000000             3.000000             5.000000       1.000000  "
      ]
     },
     "execution_count": 5,
     "metadata": {},
     "output_type": "execute_result"
    }
   ],
   "source": [
    "data1.describe()"
   ]
  },
  {
   "cell_type": "code",
   "execution_count": 6,
   "id": "e6df73c6",
   "metadata": {},
   "outputs": [
    {
     "name": "stdout",
     "output_type": "stream",
     "text": [
      "<class 'pandas.core.frame.DataFrame'>\n",
      "RangeIndex: 139043 entries, 0 to 139042\n",
      "Data columns (total 19 columns):\n",
      " #   Column                  Non-Null Count   Dtype  \n",
      "---  ------                  --------------   -----  \n",
      " 0   person_id               139043 non-null  int64  \n",
      " 1   tobacco_consumption     91065 non-null   object \n",
      " 2   alcohol_consumption     123738 non-null  object \n",
      " 3   sdh_occupational_risk   137812 non-null  float64\n",
      " 4   gender                  139043 non-null  object \n",
      " 5   religion                139043 non-null  int64  \n",
      " 6   caste                   139043 non-null  int64  \n",
      " 7   is_literate             139043 non-null  object \n",
      " 8   age                     113049 non-null  float64\n",
      " 9   education_status        137322 non-null  object \n",
      " 10  occupation_status       138388 non-null  float64\n",
      " 11  primary_cooking_fuel    135068 non-null  object \n",
      " 12  primary_drinking_water  135068 non-null  float64\n",
      " 13  primary_toilet          135068 non-null  float64\n",
      " 14  primary_transport       135068 non-null  object \n",
      " 15  toilet_usage_status     133479 non-null  float64\n",
      " 16  primary_electricity     135068 non-null  float64\n",
      " 17  primary_house_material  135068 non-null  object \n",
      " 18  diseases                139043 non-null  int64  \n",
      "dtypes: float64(7), int64(4), object(8)\n",
      "memory usage: 20.2+ MB\n"
     ]
    }
   ],
   "source": [
    "data1.info()"
   ]
  },
  {
   "cell_type": "code",
   "execution_count": 7,
   "id": "dd084c4e",
   "metadata": {},
   "outputs": [
    {
     "data": {
      "text/plain": [
       "person_id                     0\n",
       "tobacco_consumption       47978\n",
       "alcohol_consumption       15305\n",
       "sdh_occupational_risk      1231\n",
       "gender                        0\n",
       "religion                      0\n",
       "caste                         0\n",
       "is_literate                   0\n",
       "age                       25994\n",
       "education_status           1721\n",
       "occupation_status           655\n",
       "primary_cooking_fuel       3975\n",
       "primary_drinking_water     3975\n",
       "primary_toilet             3975\n",
       "primary_transport          3975\n",
       "toilet_usage_status        5564\n",
       "primary_electricity        3975\n",
       "primary_house_material     3975\n",
       "diseases                      0\n",
       "dtype: int64"
      ]
     },
     "execution_count": 7,
     "metadata": {},
     "output_type": "execute_result"
    }
   ],
   "source": [
    "data1.isnull().sum()"
   ]
  },
  {
   "cell_type": "code",
   "execution_count": 8,
   "id": "24627a64",
   "metadata": {},
   "outputs": [
    {
     "data": {
      "text/html": [
       "<div>\n",
       "<style scoped>\n",
       "    .dataframe tbody tr th:only-of-type {\n",
       "        vertical-align: middle;\n",
       "    }\n",
       "\n",
       "    .dataframe tbody tr th {\n",
       "        vertical-align: top;\n",
       "    }\n",
       "\n",
       "    .dataframe thead th {\n",
       "        text-align: right;\n",
       "    }\n",
       "</style>\n",
       "<table border=\"1\" class=\"dataframe\">\n",
       "  <thead>\n",
       "    <tr style=\"text-align: right;\">\n",
       "      <th></th>\n",
       "      <th>person_id</th>\n",
       "      <th>tobacco_consumption</th>\n",
       "      <th>alcohol_consumption</th>\n",
       "      <th>sdh_occupational_risk</th>\n",
       "      <th>gender</th>\n",
       "      <th>religion</th>\n",
       "      <th>caste</th>\n",
       "      <th>is_literate</th>\n",
       "      <th>age</th>\n",
       "      <th>education_status</th>\n",
       "      <th>occupation_status</th>\n",
       "      <th>primary_cooking_fuel</th>\n",
       "      <th>primary_drinking_water</th>\n",
       "      <th>primary_toilet</th>\n",
       "      <th>primary_transport</th>\n",
       "      <th>toilet_usage_status</th>\n",
       "      <th>primary_electricity</th>\n",
       "      <th>primary_house_material</th>\n",
       "      <th>diseases</th>\n",
       "    </tr>\n",
       "  </thead>\n",
       "  <tbody>\n",
       "  </tbody>\n",
       "</table>\n",
       "</div>"
      ],
      "text/plain": [
       "Empty DataFrame\n",
       "Columns: [person_id, tobacco_consumption, alcohol_consumption, sdh_occupational_risk, gender, religion, caste, is_literate, age, education_status, occupation_status, primary_cooking_fuel, primary_drinking_water, primary_toilet, primary_transport, toilet_usage_status, primary_electricity, primary_house_material, diseases]\n",
       "Index: []"
      ]
     },
     "execution_count": 8,
     "metadata": {},
     "output_type": "execute_result"
    }
   ],
   "source": [
    "duplicate = data1[data1.duplicated()]\n",
    "duplicate"
   ]
  },
  {
   "cell_type": "code",
   "execution_count": 9,
   "id": "22b7d30a",
   "metadata": {},
   "outputs": [],
   "source": [
    "#there are no duplicates"
   ]
  },
  {
   "cell_type": "markdown",
   "id": "9b8dc401",
   "metadata": {},
   "source": [
    "# Data cleaning"
   ]
  },
  {
   "cell_type": "code",
   "execution_count": 10,
   "id": "1916d35b",
   "metadata": {},
   "outputs": [],
   "source": [
    "data2=data1.copy()"
   ]
  },
  {
   "cell_type": "code",
   "execution_count": 11,
   "id": "110d530d",
   "metadata": {},
   "outputs": [],
   "source": [
    "data2.drop('diseases', axis=1, inplace=True)"
   ]
  },
  {
   "cell_type": "code",
   "execution_count": 12,
   "id": "36513474",
   "metadata": {},
   "outputs": [],
   "source": [
    "#decoding string with their values"
   ]
  },
  {
   "cell_type": "code",
   "execution_count": 13,
   "id": "bd622c55",
   "metadata": {},
   "outputs": [],
   "source": [
    "data2['primary_cooking_fuel']=data2['primary_cooking_fuel'].replace(['Kerosene oil (kerosene)'],5)\n",
    "data2['primary_transport']=data2['primary_transport'].replace(['Motorcycle (Two wheeler)'],1)\n",
    "data2['primary_transport']=data2['primary_transport'].replace(['Car (Four wheeler)'],2)\n",
    "data2['education_status']=data2['education_status'].replace(['Primary 1-5th'],2)  \n",
    "data2['education_status']=data2['education_status'].replace(['Middle 6-8th'],3)\n",
    "data2['primary_house_material']=data2['primary_house_material'].replace(['Brick and concrete house (Pakka)', 'Made of clay and slurry (Kachcha-Pakka)','Brick and concrete house (Teen Shed)','Brick and concrete house (Khaprail)'],[3,2,4,5])"
   ]
  },
  {
   "cell_type": "code",
   "execution_count": 14,
   "id": "3cb6ca98",
   "metadata": {},
   "outputs": [
    {
     "data": {
      "text/html": [
       "<div>\n",
       "<style scoped>\n",
       "    .dataframe tbody tr th:only-of-type {\n",
       "        vertical-align: middle;\n",
       "    }\n",
       "\n",
       "    .dataframe tbody tr th {\n",
       "        vertical-align: top;\n",
       "    }\n",
       "\n",
       "    .dataframe thead th {\n",
       "        text-align: right;\n",
       "    }\n",
       "</style>\n",
       "<table border=\"1\" class=\"dataframe\">\n",
       "  <thead>\n",
       "    <tr style=\"text-align: right;\">\n",
       "      <th></th>\n",
       "      <th>person_id</th>\n",
       "      <th>tobacco_consumption</th>\n",
       "      <th>alcohol_consumption</th>\n",
       "      <th>sdh_occupational_risk</th>\n",
       "      <th>gender</th>\n",
       "      <th>religion</th>\n",
       "      <th>caste</th>\n",
       "      <th>is_literate</th>\n",
       "      <th>age</th>\n",
       "      <th>education_status</th>\n",
       "      <th>occupation_status</th>\n",
       "      <th>primary_cooking_fuel</th>\n",
       "      <th>primary_drinking_water</th>\n",
       "      <th>primary_toilet</th>\n",
       "      <th>primary_transport</th>\n",
       "      <th>toilet_usage_status</th>\n",
       "      <th>primary_electricity</th>\n",
       "      <th>primary_house_material</th>\n",
       "    </tr>\n",
       "  </thead>\n",
       "  <tbody>\n",
       "    <tr>\n",
       "      <th>0</th>\n",
       "      <td>3177498</td>\n",
       "      <td>In past/sometimes</td>\n",
       "      <td>Yes</td>\n",
       "      <td>9.0</td>\n",
       "      <td>M</td>\n",
       "      <td>1</td>\n",
       "      <td>3</td>\n",
       "      <td>Yes</td>\n",
       "      <td>30.0</td>\n",
       "      <td>2.0</td>\n",
       "      <td>5.0</td>\n",
       "      <td>1</td>\n",
       "      <td>5.0</td>\n",
       "      <td>6.0</td>\n",
       "      <td>1</td>\n",
       "      <td>0.0</td>\n",
       "      <td>1.0</td>\n",
       "      <td>1</td>\n",
       "    </tr>\n",
       "    <tr>\n",
       "      <th>1</th>\n",
       "      <td>3177499</td>\n",
       "      <td>NaN</td>\n",
       "      <td>NaN</td>\n",
       "      <td>0.0</td>\n",
       "      <td>F</td>\n",
       "      <td>0</td>\n",
       "      <td>0</td>\n",
       "      <td>No</td>\n",
       "      <td>2.0</td>\n",
       "      <td>0.0</td>\n",
       "      <td>0.0</td>\n",
       "      <td>1</td>\n",
       "      <td>5.0</td>\n",
       "      <td>6.0</td>\n",
       "      <td>1</td>\n",
       "      <td>0.0</td>\n",
       "      <td>1.0</td>\n",
       "      <td>1</td>\n",
       "    </tr>\n",
       "    <tr>\n",
       "      <th>2</th>\n",
       "      <td>3177500</td>\n",
       "      <td>In past/sometimes</td>\n",
       "      <td>Yes</td>\n",
       "      <td>0.0</td>\n",
       "      <td>F</td>\n",
       "      <td>1</td>\n",
       "      <td>3</td>\n",
       "      <td>Yes</td>\n",
       "      <td>29.0</td>\n",
       "      <td>3.0</td>\n",
       "      <td>9.0</td>\n",
       "      <td>1</td>\n",
       "      <td>5.0</td>\n",
       "      <td>6.0</td>\n",
       "      <td>1</td>\n",
       "      <td>0.0</td>\n",
       "      <td>1.0</td>\n",
       "      <td>1</td>\n",
       "    </tr>\n",
       "    <tr>\n",
       "      <th>3</th>\n",
       "      <td>3177501</td>\n",
       "      <td>NaN</td>\n",
       "      <td>NaN</td>\n",
       "      <td>0.0</td>\n",
       "      <td>F</td>\n",
       "      <td>0</td>\n",
       "      <td>0</td>\n",
       "      <td>No</td>\n",
       "      <td>68.0</td>\n",
       "      <td>0.0</td>\n",
       "      <td>0.0</td>\n",
       "      <td>0</td>\n",
       "      <td>0.0</td>\n",
       "      <td>0.0</td>\n",
       "      <td>0</td>\n",
       "      <td>0.0</td>\n",
       "      <td>0.0</td>\n",
       "      <td>0</td>\n",
       "    </tr>\n",
       "    <tr>\n",
       "      <th>4</th>\n",
       "      <td>3177502</td>\n",
       "      <td>In past/sometimes</td>\n",
       "      <td>Yes</td>\n",
       "      <td>9.0</td>\n",
       "      <td>M</td>\n",
       "      <td>1</td>\n",
       "      <td>3</td>\n",
       "      <td>Yes</td>\n",
       "      <td>22.0</td>\n",
       "      <td>2.0</td>\n",
       "      <td>5.0</td>\n",
       "      <td>0</td>\n",
       "      <td>0.0</td>\n",
       "      <td>0.0</td>\n",
       "      <td>0</td>\n",
       "      <td>0.0</td>\n",
       "      <td>0.0</td>\n",
       "      <td>0</td>\n",
       "    </tr>\n",
       "    <tr>\n",
       "      <th>5</th>\n",
       "      <td>3177503</td>\n",
       "      <td>Never</td>\n",
       "      <td>No</td>\n",
       "      <td>0.0</td>\n",
       "      <td>F</td>\n",
       "      <td>1</td>\n",
       "      <td>3</td>\n",
       "      <td>Yes</td>\n",
       "      <td>24.0</td>\n",
       "      <td>3.0</td>\n",
       "      <td>9.0</td>\n",
       "      <td>0</td>\n",
       "      <td>0.0</td>\n",
       "      <td>0.0</td>\n",
       "      <td>0</td>\n",
       "      <td>0.0</td>\n",
       "      <td>0.0</td>\n",
       "      <td>0</td>\n",
       "    </tr>\n",
       "    <tr>\n",
       "      <th>6</th>\n",
       "      <td>3564728</td>\n",
       "      <td>NaN</td>\n",
       "      <td>No</td>\n",
       "      <td>0.0</td>\n",
       "      <td>M</td>\n",
       "      <td>1</td>\n",
       "      <td>3</td>\n",
       "      <td>No</td>\n",
       "      <td>13.0</td>\n",
       "      <td>0.0</td>\n",
       "      <td>0.0</td>\n",
       "      <td>6</td>\n",
       "      <td>5.0</td>\n",
       "      <td>2.0</td>\n",
       "      <td>6</td>\n",
       "      <td>2.0</td>\n",
       "      <td>1.0</td>\n",
       "      <td>2</td>\n",
       "    </tr>\n",
       "    <tr>\n",
       "      <th>7</th>\n",
       "      <td>3564729</td>\n",
       "      <td>NaN</td>\n",
       "      <td>No</td>\n",
       "      <td>0.0</td>\n",
       "      <td>F</td>\n",
       "      <td>1</td>\n",
       "      <td>3</td>\n",
       "      <td>No</td>\n",
       "      <td>11.0</td>\n",
       "      <td>0.0</td>\n",
       "      <td>0.0</td>\n",
       "      <td>6</td>\n",
       "      <td>5.0</td>\n",
       "      <td>2.0</td>\n",
       "      <td>6</td>\n",
       "      <td>2.0</td>\n",
       "      <td>1.0</td>\n",
       "      <td>2</td>\n",
       "    </tr>\n",
       "    <tr>\n",
       "      <th>8</th>\n",
       "      <td>3564730</td>\n",
       "      <td>Never</td>\n",
       "      <td>No</td>\n",
       "      <td>0.0</td>\n",
       "      <td>F</td>\n",
       "      <td>1</td>\n",
       "      <td>3</td>\n",
       "      <td>No</td>\n",
       "      <td>42.0</td>\n",
       "      <td>0.0</td>\n",
       "      <td>9.0</td>\n",
       "      <td>6</td>\n",
       "      <td>5.0</td>\n",
       "      <td>2.0</td>\n",
       "      <td>6</td>\n",
       "      <td>2.0</td>\n",
       "      <td>1.0</td>\n",
       "      <td>2</td>\n",
       "    </tr>\n",
       "    <tr>\n",
       "      <th>9</th>\n",
       "      <td>3564731</td>\n",
       "      <td>Never</td>\n",
       "      <td>No</td>\n",
       "      <td>0.0</td>\n",
       "      <td>M</td>\n",
       "      <td>1</td>\n",
       "      <td>3</td>\n",
       "      <td>No</td>\n",
       "      <td>16.0</td>\n",
       "      <td>0.0</td>\n",
       "      <td>0.0</td>\n",
       "      <td>6</td>\n",
       "      <td>5.0</td>\n",
       "      <td>2.0</td>\n",
       "      <td>6</td>\n",
       "      <td>2.0</td>\n",
       "      <td>1.0</td>\n",
       "      <td>2</td>\n",
       "    </tr>\n",
       "  </tbody>\n",
       "</table>\n",
       "</div>"
      ],
      "text/plain": [
       "   person_id tobacco_consumption alcohol_consumption  sdh_occupational_risk  \\\n",
       "0    3177498   In past/sometimes                 Yes                    9.0   \n",
       "1    3177499                 NaN                 NaN                    0.0   \n",
       "2    3177500   In past/sometimes                 Yes                    0.0   \n",
       "3    3177501                 NaN                 NaN                    0.0   \n",
       "4    3177502   In past/sometimes                 Yes                    9.0   \n",
       "5    3177503               Never                  No                    0.0   \n",
       "6    3564728                 NaN                  No                    0.0   \n",
       "7    3564729                 NaN                  No                    0.0   \n",
       "8    3564730               Never                  No                    0.0   \n",
       "9    3564731               Never                  No                    0.0   \n",
       "\n",
       "  gender  religion  caste is_literate   age  education_status  \\\n",
       "0      M         1      3         Yes  30.0               2.0   \n",
       "1      F         0      0          No   2.0               0.0   \n",
       "2      F         1      3         Yes  29.0               3.0   \n",
       "3      F         0      0          No  68.0               0.0   \n",
       "4      M         1      3         Yes  22.0               2.0   \n",
       "5      F         1      3         Yes  24.0               3.0   \n",
       "6      M         1      3          No  13.0               0.0   \n",
       "7      F         1      3          No  11.0               0.0   \n",
       "8      F         1      3          No  42.0               0.0   \n",
       "9      M         1      3          No  16.0               0.0   \n",
       "\n",
       "   occupation_status primary_cooking_fuel  primary_drinking_water  \\\n",
       "0                5.0                    1                     5.0   \n",
       "1                0.0                    1                     5.0   \n",
       "2                9.0                    1                     5.0   \n",
       "3                0.0                    0                     0.0   \n",
       "4                5.0                    0                     0.0   \n",
       "5                9.0                    0                     0.0   \n",
       "6                0.0                    6                     5.0   \n",
       "7                0.0                    6                     5.0   \n",
       "8                9.0                    6                     5.0   \n",
       "9                0.0                    6                     5.0   \n",
       "\n",
       "   primary_toilet primary_transport  toilet_usage_status  primary_electricity  \\\n",
       "0             6.0                 1                  0.0                  1.0   \n",
       "1             6.0                 1                  0.0                  1.0   \n",
       "2             6.0                 1                  0.0                  1.0   \n",
       "3             0.0                 0                  0.0                  0.0   \n",
       "4             0.0                 0                  0.0                  0.0   \n",
       "5             0.0                 0                  0.0                  0.0   \n",
       "6             2.0                 6                  2.0                  1.0   \n",
       "7             2.0                 6                  2.0                  1.0   \n",
       "8             2.0                 6                  2.0                  1.0   \n",
       "9             2.0                 6                  2.0                  1.0   \n",
       "\n",
       "  primary_house_material  \n",
       "0                      1  \n",
       "1                      1  \n",
       "2                      1  \n",
       "3                      0  \n",
       "4                      0  \n",
       "5                      0  \n",
       "6                      2  \n",
       "7                      2  \n",
       "8                      2  \n",
       "9                      2  "
      ]
     },
     "execution_count": 14,
     "metadata": {},
     "output_type": "execute_result"
    }
   ],
   "source": [
    "data2.head(10)"
   ]
  },
  {
   "cell_type": "code",
   "execution_count": 15,
   "id": "1f5b2cbb",
   "metadata": {},
   "outputs": [],
   "source": [
    "    #filling null values with mode & mean for (age)"
   ]
  },
  {
   "cell_type": "code",
   "execution_count": 16,
   "id": "14801e62",
   "metadata": {},
   "outputs": [],
   "source": [
    "data2[\"primary_toilet\"].fillna(data2[\"primary_toilet\"].mode()[0], inplace=True)\n",
    "data2[\"primary_drinking_water\"].fillna(data2[\"primary_drinking_water\"].mode()[0], inplace=True)\n",
    "data2[\"toilet_usage_status\"].fillna(data2[\"toilet_usage_status\"].mode()[0], inplace=True)\n",
    "data2[\"primary_transport\"].fillna(data2[\"primary_transport\"].mode()[0], inplace=True)\n",
    "data2[\"primary_electricity\"].fillna(data2[\"primary_electricity\"].mode()[0], inplace=True)\n",
    "data2[\"primary_house_material\"].fillna(data2[\"primary_house_material\"].mode()[0], inplace=True)\n",
    "data2[\"primary_cooking_fuel\"].fillna(data2[\"primary_cooking_fuel\"].mode()[0], inplace=True)\n",
    "data2[\"education_status\"].fillna(data2[\"education_status\"].mode()[0], inplace=True)\n",
    "data2[\"occupation_status\"].fillna(data2[\"occupation_status\"].mode()[0], inplace=True)\n",
    "data2[\"sdh_occupational_risk\"].fillna(data2[\"sdh_occupational_risk\"].mode()[0], inplace=True)\n",
    "data2[\"age\"].fillna(data2[\"age\"].mean(), inplace=True)\n"
   ]
  },
  {
   "cell_type": "code",
   "execution_count": 17,
   "id": "d3a985aa",
   "metadata": {},
   "outputs": [
    {
     "data": {
      "text/plain": [
       "person_id                     0\n",
       "tobacco_consumption       47978\n",
       "alcohol_consumption       15305\n",
       "sdh_occupational_risk         0\n",
       "gender                        0\n",
       "religion                      0\n",
       "caste                         0\n",
       "is_literate                   0\n",
       "age                           0\n",
       "education_status              0\n",
       "occupation_status             0\n",
       "primary_cooking_fuel          0\n",
       "primary_drinking_water        0\n",
       "primary_toilet                0\n",
       "primary_transport             0\n",
       "toilet_usage_status           0\n",
       "primary_electricity           0\n",
       "primary_house_material        0\n",
       "dtype: int64"
      ]
     },
     "execution_count": 17,
     "metadata": {},
     "output_type": "execute_result"
    }
   ],
   "source": [
    "data2.isnull().sum()"
   ]
  },
  {
   "cell_type": "code",
   "execution_count": 18,
   "id": "c61ad28f",
   "metadata": {},
   "outputs": [],
   "source": [
    "\n",
    "#finding mode values"
   ]
  },
  {
   "cell_type": "code",
   "execution_count": 19,
   "id": "d35756b8",
   "metadata": {},
   "outputs": [
    {
     "data": {
      "text/plain": [
       "0    1\n",
       "dtype: object"
      ]
     },
     "execution_count": 19,
     "metadata": {},
     "output_type": "execute_result"
    }
   ],
   "source": [
    "data2.primary_transport.mode()"
   ]
  },
  {
   "cell_type": "code",
   "execution_count": 20,
   "id": "e3af3f9c",
   "metadata": {},
   "outputs": [
    {
     "data": {
      "text/plain": [
       "0    1\n",
       "dtype: object"
      ]
     },
     "execution_count": 20,
     "metadata": {},
     "output_type": "execute_result"
    }
   ],
   "source": [
    "data2.primary_house_material.mode()"
   ]
  },
  {
   "cell_type": "code",
   "execution_count": 21,
   "id": "47db0bd0",
   "metadata": {},
   "outputs": [
    {
     "data": {
      "text/plain": [
       "0    1\n",
       "dtype: object"
      ]
     },
     "execution_count": 21,
     "metadata": {},
     "output_type": "execute_result"
    }
   ],
   "source": [
    "data2.primary_cooking_fuel.mode()"
   ]
  },
  {
   "cell_type": "code",
   "execution_count": 22,
   "id": "83f60664",
   "metadata": {},
   "outputs": [
    {
     "data": {
      "text/plain": [
       "0    0.0\n",
       "dtype: float64"
      ]
     },
     "execution_count": 22,
     "metadata": {},
     "output_type": "execute_result"
    }
   ],
   "source": [
    "data2.education_status.mode()"
   ]
  },
  {
   "cell_type": "code",
   "execution_count": 23,
   "id": "1214aaf0",
   "metadata": {},
   "outputs": [
    {
     "data": {
      "text/plain": [
       "0.0    93602\n",
       "2.0    11810\n",
       "3.0    10708\n",
       "4.0     8067\n",
       "5.0     4974\n",
       "6.0     4019\n",
       "1.0     3871\n",
       "7.0     1992\n",
       "Name: education_status, dtype: int64"
      ]
     },
     "execution_count": 23,
     "metadata": {},
     "output_type": "execute_result"
    }
   ],
   "source": [
    "data2.education_status.value_counts()"
   ]
  },
  {
   "cell_type": "code",
   "execution_count": 24,
   "id": "52416913",
   "metadata": {},
   "outputs": [
    {
     "data": {
      "text/plain": [
       "0    0.0\n",
       "dtype: float64"
      ]
     },
     "execution_count": 24,
     "metadata": {},
     "output_type": "execute_result"
    }
   ],
   "source": [
    "data2.occupation_status.mode()"
   ]
  },
  {
   "cell_type": "code",
   "execution_count": 25,
   "id": "fa0e49af",
   "metadata": {},
   "outputs": [
    {
     "data": {
      "text/plain": [
       "0.0     60453\n",
       "5.0     23394\n",
       "6.0     15441\n",
       "4.0     11317\n",
       "9.0     11015\n",
       "8.0      4936\n",
       "3.0      3973\n",
       "2.0      3000\n",
       "10.0     2363\n",
       "7.0      1885\n",
       "1.0      1266\n",
       "Name: occupation_status, dtype: int64"
      ]
     },
     "execution_count": 25,
     "metadata": {},
     "output_type": "execute_result"
    }
   ],
   "source": [
    "data2.occupation_status.value_counts()"
   ]
  },
  {
   "cell_type": "code",
   "execution_count": 26,
   "id": "29d97e37",
   "metadata": {},
   "outputs": [
    {
     "data": {
      "text/plain": [
       "0    5.0\n",
       "dtype: float64"
      ]
     },
     "execution_count": 26,
     "metadata": {},
     "output_type": "execute_result"
    }
   ],
   "source": [
    "data2.primary_drinking_water.mode()"
   ]
  },
  {
   "cell_type": "code",
   "execution_count": 27,
   "id": "36fe459a",
   "metadata": {},
   "outputs": [
    {
     "data": {
      "text/plain": [
       "0    6.0\n",
       "dtype: float64"
      ]
     },
     "execution_count": 27,
     "metadata": {},
     "output_type": "execute_result"
    }
   ],
   "source": [
    "data2.primary_toilet.mode()"
   ]
  },
  {
   "cell_type": "code",
   "execution_count": 28,
   "id": "ca05ddec",
   "metadata": {},
   "outputs": [
    {
     "data": {
      "text/plain": [
       "0    0.0\n",
       "dtype: float64"
      ]
     },
     "execution_count": 28,
     "metadata": {},
     "output_type": "execute_result"
    }
   ],
   "source": [
    "data2.toilet_usage_status.mode()"
   ]
  },
  {
   "cell_type": "code",
   "execution_count": 29,
   "id": "29af2489",
   "metadata": {},
   "outputs": [
    {
     "data": {
      "text/plain": [
       "0.0    80318\n",
       "1.0    46598\n",
       "3.0     7593\n",
       "2.0     4534\n",
       "Name: toilet_usage_status, dtype: int64"
      ]
     },
     "execution_count": 29,
     "metadata": {},
     "output_type": "execute_result"
    }
   ],
   "source": [
    "data2.toilet_usage_status.value_counts()"
   ]
  },
  {
   "cell_type": "code",
   "execution_count": 30,
   "id": "ca4fe92b",
   "metadata": {},
   "outputs": [
    {
     "data": {
      "text/plain": [
       "0    1.0\n",
       "dtype: float64"
      ]
     },
     "execution_count": 30,
     "metadata": {},
     "output_type": "execute_result"
    }
   ],
   "source": [
    "data2.primary_electricity.mode()"
   ]
  },
  {
   "cell_type": "code",
   "execution_count": 31,
   "id": "aa85507b",
   "metadata": {},
   "outputs": [
    {
     "data": {
      "text/plain": [
       "0    1\n",
       "dtype: int64"
      ]
     },
     "execution_count": 31,
     "metadata": {},
     "output_type": "execute_result"
    }
   ],
   "source": [
    "data2.religion.mode()"
   ]
  },
  {
   "cell_type": "code",
   "execution_count": 32,
   "id": "4074414d",
   "metadata": {},
   "outputs": [
    {
     "data": {
      "text/plain": [
       "0    3\n",
       "dtype: int64"
      ]
     },
     "execution_count": 32,
     "metadata": {},
     "output_type": "execute_result"
    }
   ],
   "source": [
    "data2.caste.mode()"
   ]
  },
  {
   "cell_type": "code",
   "execution_count": 33,
   "id": "668c63e6",
   "metadata": {},
   "outputs": [
    {
     "data": {
      "text/plain": [
       "0.0    80664\n",
       "9.0    47785\n",
       "1.0     6153\n",
       "8.0     1460\n",
       "2.0      669\n",
       "7.0      547\n",
       "4.0      534\n",
       "5.0      491\n",
       "3.0      461\n",
       "6.0      279\n",
       "Name: sdh_occupational_risk, dtype: int64"
      ]
     },
     "execution_count": 33,
     "metadata": {},
     "output_type": "execute_result"
    }
   ],
   "source": [
    "data2[\"sdh_occupational_risk\"].value_counts()"
   ]
  },
  {
   "cell_type": "code",
   "execution_count": 34,
   "id": "971756d9",
   "metadata": {},
   "outputs": [],
   "source": [
    "#here education_status,occupation_status,sdh_occupational_risk,toilet_usage_status has 0 as the mode value. Hence considering next highest mode value and replacing it with zeroes"
   ]
  },
  {
   "cell_type": "code",
   "execution_count": 35,
   "id": "bf7120a4",
   "metadata": {},
   "outputs": [],
   "source": [
    "#replaceing all zeros(i.e., missing values) with mode value"
   ]
  },
  {
   "cell_type": "code",
   "execution_count": 36,
   "id": "5aa0f58c",
   "metadata": {},
   "outputs": [],
   "source": [
    "data2['primary_cooking_fuel'].replace([0],1,inplace=True)\n",
    "data2['primary_transport'].replace(['0'],1,inplace=True)\n",
    "data2['primary_house_material'].replace(['0'],1,inplace=True)\n",
    "data2[\"sdh_occupational_risk\"].replace([0],9,inplace=True)\n",
    "data2['primary_drinking_water'].replace([0.0],5.0,inplace=True)\n",
    "data2['primary_toilet'].replace([0],6,inplace=True)\n",
    "data2['primary_electricity'].replace([0],6,inplace=True)\n",
    "data2['toilet_usage_status'].replace([0.0],1.0,inplace=True)\n",
    "data2['education_status'].replace([0],2,inplace=True)\n",
    "data2['occupation_status'].replace([0],5,inplace=True)\n",
    "data2['religion'].replace([0],1,inplace=True)\n",
    "data2['caste'].replace([0],3,inplace=True)"
   ]
  },
  {
   "cell_type": "code",
   "execution_count": 37,
   "id": "12f866b1",
   "metadata": {},
   "outputs": [],
   "source": [
    "#Replacing null values of tobacco consumption column"
   ]
  },
  {
   "cell_type": "code",
   "execution_count": 38,
   "id": "a8790670",
   "metadata": {},
   "outputs": [
    {
     "data": {
      "text/plain": [
       "SimpleImputer(strategy='most_frequent')"
      ]
     },
     "execution_count": 38,
     "metadata": {},
     "output_type": "execute_result"
    }
   ],
   "source": [
    "from sklearn.impute import SimpleImputer\n",
    "imputer=SimpleImputer(missing_values=np.nan, strategy='most_frequent')\n",
    "imputer.fit(data2)"
   ]
  },
  {
   "cell_type": "code",
   "execution_count": 39,
   "id": "f40ea91f",
   "metadata": {},
   "outputs": [],
   "source": [
    "imputed_data = pd.DataFrame(imputer.transform(data2))\n",
    "imputed_data.columns=data2.columns"
   ]
  },
  {
   "cell_type": "code",
   "execution_count": 40,
   "id": "2f13ddfc",
   "metadata": {},
   "outputs": [
    {
     "data": {
      "text/plain": [
       "person_id                 0\n",
       "tobacco_consumption       0\n",
       "alcohol_consumption       0\n",
       "sdh_occupational_risk     0\n",
       "gender                    0\n",
       "religion                  0\n",
       "caste                     0\n",
       "is_literate               0\n",
       "age                       0\n",
       "education_status          0\n",
       "occupation_status         0\n",
       "primary_cooking_fuel      0\n",
       "primary_drinking_water    0\n",
       "primary_toilet            0\n",
       "primary_transport         0\n",
       "toilet_usage_status       0\n",
       "primary_electricity       0\n",
       "primary_house_material    0\n",
       "dtype: int64"
      ]
     },
     "execution_count": 40,
     "metadata": {},
     "output_type": "execute_result"
    }
   ],
   "source": [
    "imputed_data.isnull().sum()"
   ]
  },
  {
   "cell_type": "code",
   "execution_count": 41,
   "id": "7508d206",
   "metadata": {},
   "outputs": [],
   "source": [
    "#finally there are no null values"
   ]
  },
  {
   "cell_type": "code",
   "execution_count": 42,
   "id": "4bf18dbb",
   "metadata": {},
   "outputs": [],
   "source": [
    "imputed_data[\"age\"]=imputed_data[\"age\"].astype('int')\n",
    "imputed_data[\"religion\"]=imputed_data[\"religion\"].astype('int')\n",
    "imputed_data[\"caste\"]=imputed_data[\"caste\"].astype('int')\n",
    "imputed_data[\"sdh_occupational_risk\"]=imputed_data[\"sdh_occupational_risk\"].astype('float')\n",
    "imputed_data[\"education_status\"]=imputed_data[\"education_status\"].astype('float')\n",
    "imputed_data[\"primary_drinking_water\"]=imputed_data[\"primary_drinking_water\"].astype('float')\n",
    "imputed_data[\"primary_toilet\"]=imputed_data[\"primary_toilet\"].astype('float')\n",
    "imputed_data[\"toilet_usage_status\"]=imputed_data[\"toilet_usage_status\"].astype('float')\n",
    "imputed_data[\"primary_electricity\"]=imputed_data[\"primary_electricity\"].astype('float')"
   ]
  },
  {
   "cell_type": "code",
   "execution_count": 43,
   "id": "e58b96b6",
   "metadata": {},
   "outputs": [],
   "source": [
    "#Removing the rows with gender='O'\n",
    "imputed_data.drop(imputed_data[imputed_data['gender']=='O'].index,inplace=True)"
   ]
  },
  {
   "cell_type": "code",
   "execution_count": 44,
   "id": "10b14cd5",
   "metadata": {},
   "outputs": [
    {
     "data": {
      "text/html": [
       "<div>\n",
       "<style scoped>\n",
       "    .dataframe tbody tr th:only-of-type {\n",
       "        vertical-align: middle;\n",
       "    }\n",
       "\n",
       "    .dataframe tbody tr th {\n",
       "        vertical-align: top;\n",
       "    }\n",
       "\n",
       "    .dataframe thead th {\n",
       "        text-align: right;\n",
       "    }\n",
       "</style>\n",
       "<table border=\"1\" class=\"dataframe\">\n",
       "  <thead>\n",
       "    <tr style=\"text-align: right;\">\n",
       "      <th></th>\n",
       "      <th>sdh_occupational_risk</th>\n",
       "      <th>religion</th>\n",
       "      <th>caste</th>\n",
       "      <th>age</th>\n",
       "      <th>education_status</th>\n",
       "      <th>primary_drinking_water</th>\n",
       "      <th>primary_toilet</th>\n",
       "      <th>toilet_usage_status</th>\n",
       "      <th>primary_electricity</th>\n",
       "    </tr>\n",
       "  </thead>\n",
       "  <tbody>\n",
       "    <tr>\n",
       "      <th>count</th>\n",
       "      <td>139032.000000</td>\n",
       "      <td>139032.000000</td>\n",
       "      <td>139032.000000</td>\n",
       "      <td>139032.000000</td>\n",
       "      <td>139032.000000</td>\n",
       "      <td>139032.000000</td>\n",
       "      <td>139032.000000</td>\n",
       "      <td>139032.000000</td>\n",
       "      <td>139032.000000</td>\n",
       "    </tr>\n",
       "    <tr>\n",
       "      <th>mean</th>\n",
       "      <td>8.534711</td>\n",
       "      <td>1.055289</td>\n",
       "      <td>2.695049</td>\n",
       "      <td>30.104983</td>\n",
       "      <td>2.459772</td>\n",
       "      <td>4.716216</td>\n",
       "      <td>4.260285</td>\n",
       "      <td>1.141838</td>\n",
       "      <td>1.713900</td>\n",
       "    </tr>\n",
       "    <tr>\n",
       "      <th>std</th>\n",
       "      <td>1.779727</td>\n",
       "      <td>0.468820</td>\n",
       "      <td>0.934355</td>\n",
       "      <td>18.111705</td>\n",
       "      <td>1.126112</td>\n",
       "      <td>1.206139</td>\n",
       "      <td>2.196268</td>\n",
       "      <td>0.480571</td>\n",
       "      <td>1.700586</td>\n",
       "    </tr>\n",
       "    <tr>\n",
       "      <th>min</th>\n",
       "      <td>1.000000</td>\n",
       "      <td>1.000000</td>\n",
       "      <td>1.000000</td>\n",
       "      <td>0.000000</td>\n",
       "      <td>1.000000</td>\n",
       "      <td>1.000000</td>\n",
       "      <td>1.000000</td>\n",
       "      <td>1.000000</td>\n",
       "      <td>1.000000</td>\n",
       "    </tr>\n",
       "    <tr>\n",
       "      <th>25%</th>\n",
       "      <td>9.000000</td>\n",
       "      <td>1.000000</td>\n",
       "      <td>2.000000</td>\n",
       "      <td>17.000000</td>\n",
       "      <td>2.000000</td>\n",
       "      <td>4.000000</td>\n",
       "      <td>2.000000</td>\n",
       "      <td>1.000000</td>\n",
       "      <td>1.000000</td>\n",
       "    </tr>\n",
       "    <tr>\n",
       "      <th>50%</th>\n",
       "      <td>9.000000</td>\n",
       "      <td>1.000000</td>\n",
       "      <td>3.000000</td>\n",
       "      <td>30.000000</td>\n",
       "      <td>2.000000</td>\n",
       "      <td>5.000000</td>\n",
       "      <td>6.000000</td>\n",
       "      <td>1.000000</td>\n",
       "      <td>1.000000</td>\n",
       "    </tr>\n",
       "    <tr>\n",
       "      <th>75%</th>\n",
       "      <td>9.000000</td>\n",
       "      <td>1.000000</td>\n",
       "      <td>3.000000</td>\n",
       "      <td>38.000000</td>\n",
       "      <td>2.000000</td>\n",
       "      <td>5.000000</td>\n",
       "      <td>6.000000</td>\n",
       "      <td>1.000000</td>\n",
       "      <td>1.000000</td>\n",
       "    </tr>\n",
       "    <tr>\n",
       "      <th>max</th>\n",
       "      <td>9.000000</td>\n",
       "      <td>7.000000</td>\n",
       "      <td>5.000000</td>\n",
       "      <td>120.000000</td>\n",
       "      <td>7.000000</td>\n",
       "      <td>11.000000</td>\n",
       "      <td>7.000000</td>\n",
       "      <td>3.000000</td>\n",
       "      <td>6.000000</td>\n",
       "    </tr>\n",
       "  </tbody>\n",
       "</table>\n",
       "</div>"
      ],
      "text/plain": [
       "       sdh_occupational_risk       religion          caste            age  \\\n",
       "count          139032.000000  139032.000000  139032.000000  139032.000000   \n",
       "mean                8.534711       1.055289       2.695049      30.104983   \n",
       "std                 1.779727       0.468820       0.934355      18.111705   \n",
       "min                 1.000000       1.000000       1.000000       0.000000   \n",
       "25%                 9.000000       1.000000       2.000000      17.000000   \n",
       "50%                 9.000000       1.000000       3.000000      30.000000   \n",
       "75%                 9.000000       1.000000       3.000000      38.000000   \n",
       "max                 9.000000       7.000000       5.000000     120.000000   \n",
       "\n",
       "       education_status  primary_drinking_water  primary_toilet  \\\n",
       "count     139032.000000           139032.000000   139032.000000   \n",
       "mean           2.459772                4.716216        4.260285   \n",
       "std            1.126112                1.206139        2.196268   \n",
       "min            1.000000                1.000000        1.000000   \n",
       "25%            2.000000                4.000000        2.000000   \n",
       "50%            2.000000                5.000000        6.000000   \n",
       "75%            2.000000                5.000000        6.000000   \n",
       "max            7.000000               11.000000        7.000000   \n",
       "\n",
       "       toilet_usage_status  primary_electricity  \n",
       "count        139032.000000        139032.000000  \n",
       "mean              1.141838             1.713900  \n",
       "std               0.480571             1.700586  \n",
       "min               1.000000             1.000000  \n",
       "25%               1.000000             1.000000  \n",
       "50%               1.000000             1.000000  \n",
       "75%               1.000000             1.000000  \n",
       "max               3.000000             6.000000  "
      ]
     },
     "execution_count": 44,
     "metadata": {},
     "output_type": "execute_result"
    }
   ],
   "source": [
    "imputed_data.describe()"
   ]
  },
  {
   "cell_type": "code",
   "execution_count": 45,
   "id": "d28176bf",
   "metadata": {},
   "outputs": [],
   "source": [
    "data3=data1[['diseases','person_id']]\n",
    "imputed_data=imputed_data.merge(data3, on= 'person_id', how='left')"
   ]
  },
  {
   "cell_type": "code",
   "execution_count": 46,
   "id": "9002354b",
   "metadata": {},
   "outputs": [],
   "source": [
    "#removing person_id as it is not required for analysis\n",
    "imputed_data.drop('person_id', axis=1, inplace=True)"
   ]
  },
  {
   "cell_type": "code",
   "execution_count": 47,
   "id": "c256fcc4",
   "metadata": {},
   "outputs": [
    {
     "data": {
      "text/html": [
       "<div>\n",
       "<style scoped>\n",
       "    .dataframe tbody tr th:only-of-type {\n",
       "        vertical-align: middle;\n",
       "    }\n",
       "\n",
       "    .dataframe tbody tr th {\n",
       "        vertical-align: top;\n",
       "    }\n",
       "\n",
       "    .dataframe thead th {\n",
       "        text-align: right;\n",
       "    }\n",
       "</style>\n",
       "<table border=\"1\" class=\"dataframe\">\n",
       "  <thead>\n",
       "    <tr style=\"text-align: right;\">\n",
       "      <th></th>\n",
       "      <th>tobacco_consumption</th>\n",
       "      <th>alcohol_consumption</th>\n",
       "      <th>sdh_occupational_risk</th>\n",
       "      <th>gender</th>\n",
       "      <th>religion</th>\n",
       "      <th>caste</th>\n",
       "      <th>is_literate</th>\n",
       "      <th>age</th>\n",
       "      <th>education_status</th>\n",
       "      <th>occupation_status</th>\n",
       "      <th>primary_cooking_fuel</th>\n",
       "      <th>primary_drinking_water</th>\n",
       "      <th>primary_toilet</th>\n",
       "      <th>primary_transport</th>\n",
       "      <th>toilet_usage_status</th>\n",
       "      <th>primary_electricity</th>\n",
       "      <th>primary_house_material</th>\n",
       "      <th>diseases</th>\n",
       "    </tr>\n",
       "  </thead>\n",
       "  <tbody>\n",
       "    <tr>\n",
       "      <th>0</th>\n",
       "      <td>In past/sometimes</td>\n",
       "      <td>Yes</td>\n",
       "      <td>9.0</td>\n",
       "      <td>M</td>\n",
       "      <td>1</td>\n",
       "      <td>3</td>\n",
       "      <td>Yes</td>\n",
       "      <td>30</td>\n",
       "      <td>2.0</td>\n",
       "      <td>5.0</td>\n",
       "      <td>1</td>\n",
       "      <td>5.0</td>\n",
       "      <td>6.0</td>\n",
       "      <td>1</td>\n",
       "      <td>1.0</td>\n",
       "      <td>1.0</td>\n",
       "      <td>1</td>\n",
       "      <td>0</td>\n",
       "    </tr>\n",
       "    <tr>\n",
       "      <th>1</th>\n",
       "      <td>Never</td>\n",
       "      <td>No</td>\n",
       "      <td>9.0</td>\n",
       "      <td>F</td>\n",
       "      <td>1</td>\n",
       "      <td>3</td>\n",
       "      <td>No</td>\n",
       "      <td>2</td>\n",
       "      <td>2.0</td>\n",
       "      <td>5.0</td>\n",
       "      <td>1</td>\n",
       "      <td>5.0</td>\n",
       "      <td>6.0</td>\n",
       "      <td>1</td>\n",
       "      <td>1.0</td>\n",
       "      <td>1.0</td>\n",
       "      <td>1</td>\n",
       "      <td>0</td>\n",
       "    </tr>\n",
       "    <tr>\n",
       "      <th>2</th>\n",
       "      <td>In past/sometimes</td>\n",
       "      <td>Yes</td>\n",
       "      <td>9.0</td>\n",
       "      <td>F</td>\n",
       "      <td>1</td>\n",
       "      <td>3</td>\n",
       "      <td>Yes</td>\n",
       "      <td>29</td>\n",
       "      <td>3.0</td>\n",
       "      <td>9.0</td>\n",
       "      <td>1</td>\n",
       "      <td>5.0</td>\n",
       "      <td>6.0</td>\n",
       "      <td>1</td>\n",
       "      <td>1.0</td>\n",
       "      <td>1.0</td>\n",
       "      <td>1</td>\n",
       "      <td>0</td>\n",
       "    </tr>\n",
       "    <tr>\n",
       "      <th>3</th>\n",
       "      <td>Never</td>\n",
       "      <td>No</td>\n",
       "      <td>9.0</td>\n",
       "      <td>F</td>\n",
       "      <td>1</td>\n",
       "      <td>3</td>\n",
       "      <td>No</td>\n",
       "      <td>68</td>\n",
       "      <td>2.0</td>\n",
       "      <td>5.0</td>\n",
       "      <td>1</td>\n",
       "      <td>5.0</td>\n",
       "      <td>6.0</td>\n",
       "      <td>1</td>\n",
       "      <td>1.0</td>\n",
       "      <td>6.0</td>\n",
       "      <td>1</td>\n",
       "      <td>0</td>\n",
       "    </tr>\n",
       "    <tr>\n",
       "      <th>4</th>\n",
       "      <td>In past/sometimes</td>\n",
       "      <td>Yes</td>\n",
       "      <td>9.0</td>\n",
       "      <td>M</td>\n",
       "      <td>1</td>\n",
       "      <td>3</td>\n",
       "      <td>Yes</td>\n",
       "      <td>22</td>\n",
       "      <td>2.0</td>\n",
       "      <td>5.0</td>\n",
       "      <td>1</td>\n",
       "      <td>5.0</td>\n",
       "      <td>6.0</td>\n",
       "      <td>1</td>\n",
       "      <td>1.0</td>\n",
       "      <td>6.0</td>\n",
       "      <td>1</td>\n",
       "      <td>0</td>\n",
       "    </tr>\n",
       "  </tbody>\n",
       "</table>\n",
       "</div>"
      ],
      "text/plain": [
       "  tobacco_consumption alcohol_consumption  sdh_occupational_risk gender  \\\n",
       "0   In past/sometimes                 Yes                    9.0      M   \n",
       "1               Never                  No                    9.0      F   \n",
       "2   In past/sometimes                 Yes                    9.0      F   \n",
       "3               Never                  No                    9.0      F   \n",
       "4   In past/sometimes                 Yes                    9.0      M   \n",
       "\n",
       "   religion  caste is_literate  age  education_status occupation_status  \\\n",
       "0         1      3         Yes   30               2.0               5.0   \n",
       "1         1      3          No    2               2.0               5.0   \n",
       "2         1      3         Yes   29               3.0               9.0   \n",
       "3         1      3          No   68               2.0               5.0   \n",
       "4         1      3         Yes   22               2.0               5.0   \n",
       "\n",
       "  primary_cooking_fuel  primary_drinking_water  primary_toilet  \\\n",
       "0                    1                     5.0             6.0   \n",
       "1                    1                     5.0             6.0   \n",
       "2                    1                     5.0             6.0   \n",
       "3                    1                     5.0             6.0   \n",
       "4                    1                     5.0             6.0   \n",
       "\n",
       "  primary_transport  toilet_usage_status  primary_electricity  \\\n",
       "0                 1                  1.0                  1.0   \n",
       "1                 1                  1.0                  1.0   \n",
       "2                 1                  1.0                  1.0   \n",
       "3                 1                  1.0                  6.0   \n",
       "4                 1                  1.0                  6.0   \n",
       "\n",
       "  primary_house_material  diseases  \n",
       "0                      1         0  \n",
       "1                      1         0  \n",
       "2                      1         0  \n",
       "3                      1         0  \n",
       "4                      1         0  "
      ]
     },
     "execution_count": 47,
     "metadata": {},
     "output_type": "execute_result"
    }
   ],
   "source": [
    "imputed_data.head(5)"
   ]
  },
  {
   "cell_type": "markdown",
   "id": "04daf287",
   "metadata": {},
   "source": [
    "# EDA"
   ]
  },
  {
   "cell_type": "code",
   "execution_count": 48,
   "id": "e03470b3",
   "metadata": {},
   "outputs": [
    {
     "data": {
      "text/plain": [
       "0    134458\n",
       "1      4574\n",
       "Name: diseases, dtype: int64"
      ]
     },
     "execution_count": 48,
     "metadata": {},
     "output_type": "execute_result"
    }
   ],
   "source": [
    "imputed_data.diseases.value_counts()"
   ]
  },
  {
   "cell_type": "code",
   "execution_count": 49,
   "id": "3da13f57",
   "metadata": {},
   "outputs": [],
   "source": [
    "#128934 patients has no disease, 3722 patients has disease"
   ]
  },
  {
   "cell_type": "code",
   "execution_count": 50,
   "id": "c0be398b",
   "metadata": {},
   "outputs": [
    {
     "name": "stdout",
     "output_type": "stream",
     "text": [
      "Probability of Male patients having the disease: 0.477\n",
      "Probability of FeMale patients having the disease: 0.523\n"
     ]
    }
   ],
   "source": [
    "male_with_disease = len(imputed_data[(imputed_data['diseases']==1) & (imputed_data['gender']=='M')])\n",
    "female_with_disease=  len(imputed_data[(imputed_data['diseases']==1) & (imputed_data['gender']=='F')])\n",
    "hasdisease_tot = len(imputed_data[imputed_data['diseases']==1])\n",
    "print('Probability of Male patients having the disease:',(round(male_with_disease/hasdisease_tot,3)) )\n",
    "print('Probability of FeMale patients having the disease:',(round(female_with_disease/hasdisease_tot,3)) )\n"
   ]
  },
  {
   "cell_type": "code",
   "execution_count": 51,
   "id": "e65226ac",
   "metadata": {},
   "outputs": [
    {
     "name": "stdout",
     "output_type": "stream",
     "text": [
      "Ratio of Female to male patients having the disease: 1.097203117835855\n"
     ]
    }
   ],
   "source": [
    "print('Ratio of Female to male patients having the disease:', female_with_disease/male_with_disease)"
   ]
  },
  {
   "cell_type": "code",
   "execution_count": 52,
   "id": "14cc136c",
   "metadata": {},
   "outputs": [],
   "source": [
    "#Female patients having disease are 1.09 times male pateints having disease"
   ]
  },
  {
   "cell_type": "code",
   "execution_count": 53,
   "id": "842eb047",
   "metadata": {},
   "outputs": [
    {
     "data": {
      "text/html": [
       "<div>\n",
       "<style scoped>\n",
       "    .dataframe tbody tr th:only-of-type {\n",
       "        vertical-align: middle;\n",
       "    }\n",
       "\n",
       "    .dataframe tbody tr th {\n",
       "        vertical-align: top;\n",
       "    }\n",
       "\n",
       "    .dataframe thead th {\n",
       "        text-align: right;\n",
       "    }\n",
       "</style>\n",
       "<table border=\"1\" class=\"dataframe\">\n",
       "  <thead>\n",
       "    <tr style=\"text-align: right;\">\n",
       "      <th>diseases</th>\n",
       "      <th>0</th>\n",
       "      <th>1</th>\n",
       "    </tr>\n",
       "    <tr>\n",
       "      <th>sdh_occupational_risk</th>\n",
       "      <th></th>\n",
       "      <th></th>\n",
       "    </tr>\n",
       "  </thead>\n",
       "  <tbody>\n",
       "    <tr>\n",
       "      <th>1.0</th>\n",
       "      <td>5836</td>\n",
       "      <td>316</td>\n",
       "    </tr>\n",
       "    <tr>\n",
       "      <th>2.0</th>\n",
       "      <td>637</td>\n",
       "      <td>32</td>\n",
       "    </tr>\n",
       "    <tr>\n",
       "      <th>3.0</th>\n",
       "      <td>445</td>\n",
       "      <td>16</td>\n",
       "    </tr>\n",
       "    <tr>\n",
       "      <th>4.0</th>\n",
       "      <td>510</td>\n",
       "      <td>24</td>\n",
       "    </tr>\n",
       "    <tr>\n",
       "      <th>5.0</th>\n",
       "      <td>435</td>\n",
       "      <td>56</td>\n",
       "    </tr>\n",
       "    <tr>\n",
       "      <th>6.0</th>\n",
       "      <td>263</td>\n",
       "      <td>16</td>\n",
       "    </tr>\n",
       "    <tr>\n",
       "      <th>7.0</th>\n",
       "      <td>535</td>\n",
       "      <td>12</td>\n",
       "    </tr>\n",
       "    <tr>\n",
       "      <th>8.0</th>\n",
       "      <td>1420</td>\n",
       "      <td>40</td>\n",
       "    </tr>\n",
       "    <tr>\n",
       "      <th>9.0</th>\n",
       "      <td>124377</td>\n",
       "      <td>4062</td>\n",
       "    </tr>\n",
       "  </tbody>\n",
       "</table>\n",
       "</div>"
      ],
      "text/plain": [
       "diseases                    0     1\n",
       "sdh_occupational_risk              \n",
       "1.0                      5836   316\n",
       "2.0                       637    32\n",
       "3.0                       445    16\n",
       "4.0                       510    24\n",
       "5.0                       435    56\n",
       "6.0                       263    16\n",
       "7.0                       535    12\n",
       "8.0                      1420    40\n",
       "9.0                    124377  4062"
      ]
     },
     "execution_count": 53,
     "metadata": {},
     "output_type": "execute_result"
    }
   ],
   "source": [
    "#Distribution of sdh occupation risk\n",
    "a=pd.crosstab(imputed_data[\"sdh_occupational_risk\"],imputed_data[\"diseases\"])\n",
    "a"
   ]
  },
  {
   "cell_type": "code",
   "execution_count": 54,
   "id": "7ef6d663",
   "metadata": {},
   "outputs": [],
   "source": [
    "#Among the patients having the disease, most of them are females"
   ]
  },
  {
   "cell_type": "code",
   "execution_count": 55,
   "id": "beae6625",
   "metadata": {},
   "outputs": [
    {
     "data": {
      "text/html": [
       "<div>\n",
       "<style scoped>\n",
       "    .dataframe tbody tr th:only-of-type {\n",
       "        vertical-align: middle;\n",
       "    }\n",
       "\n",
       "    .dataframe tbody tr th {\n",
       "        vertical-align: top;\n",
       "    }\n",
       "\n",
       "    .dataframe thead th {\n",
       "        text-align: right;\n",
       "    }\n",
       "</style>\n",
       "<table border=\"1\" class=\"dataframe\">\n",
       "  <thead>\n",
       "    <tr style=\"text-align: right;\">\n",
       "      <th></th>\n",
       "      <th>Count</th>\n",
       "    </tr>\n",
       "    <tr>\n",
       "      <th>primary_drinking_water</th>\n",
       "      <th></th>\n",
       "    </tr>\n",
       "  </thead>\n",
       "  <tbody>\n",
       "    <tr>\n",
       "      <th>8.0</th>\n",
       "      <td>2</td>\n",
       "    </tr>\n",
       "    <tr>\n",
       "      <th>10.0</th>\n",
       "      <td>11</td>\n",
       "    </tr>\n",
       "    <tr>\n",
       "      <th>2.0</th>\n",
       "      <td>19</td>\n",
       "    </tr>\n",
       "    <tr>\n",
       "      <th>11.0</th>\n",
       "      <td>23</td>\n",
       "    </tr>\n",
       "    <tr>\n",
       "      <th>9.0</th>\n",
       "      <td>26</td>\n",
       "    </tr>\n",
       "    <tr>\n",
       "      <th>7.0</th>\n",
       "      <td>70</td>\n",
       "    </tr>\n",
       "    <tr>\n",
       "      <th>1.0</th>\n",
       "      <td>126</td>\n",
       "    </tr>\n",
       "    <tr>\n",
       "      <th>6.0</th>\n",
       "      <td>280</td>\n",
       "    </tr>\n",
       "    <tr>\n",
       "      <th>4.0</th>\n",
       "      <td>851</td>\n",
       "    </tr>\n",
       "    <tr>\n",
       "      <th>3.0</th>\n",
       "      <td>1577</td>\n",
       "    </tr>\n",
       "    <tr>\n",
       "      <th>5.0</th>\n",
       "      <td>1589</td>\n",
       "    </tr>\n",
       "  </tbody>\n",
       "</table>\n",
       "</div>"
      ],
      "text/plain": [
       "                        Count\n",
       "primary_drinking_water       \n",
       "8.0                         2\n",
       "10.0                       11\n",
       "2.0                        19\n",
       "11.0                       23\n",
       "9.0                        26\n",
       "7.0                        70\n",
       "1.0                       126\n",
       "6.0                       280\n",
       "4.0                       851\n",
       "3.0                      1577\n",
       "5.0                      1589"
      ]
     },
     "execution_count": 55,
     "metadata": {},
     "output_type": "execute_result"
    }
   ],
   "source": [
    "water_dist=imputed_data.groupby(\"primary_drinking_water\").diseases.agg(Count=(lambda x: (x==1).sum()))\n",
    "water_dist.sort_values(by='Count')\n"
   ]
  },
  {
   "cell_type": "code",
   "execution_count": 56,
   "id": "7a3ea602",
   "metadata": {},
   "outputs": [],
   "source": [
    "# people drinking water from Handpump/Tube well outside house, more likely got the disease"
   ]
  },
  {
   "cell_type": "code",
   "execution_count": 57,
   "id": "ec82ae44",
   "metadata": {},
   "outputs": [
    {
     "data": {
      "text/html": [
       "<div>\n",
       "<style scoped>\n",
       "    .dataframe tbody tr th:only-of-type {\n",
       "        vertical-align: middle;\n",
       "    }\n",
       "\n",
       "    .dataframe tbody tr th {\n",
       "        vertical-align: top;\n",
       "    }\n",
       "\n",
       "    .dataframe thead th {\n",
       "        text-align: right;\n",
       "    }\n",
       "</style>\n",
       "<table border=\"1\" class=\"dataframe\">\n",
       "  <thead>\n",
       "    <tr style=\"text-align: right;\">\n",
       "      <th></th>\n",
       "      <th>Count</th>\n",
       "    </tr>\n",
       "    <tr>\n",
       "      <th>primary_toilet</th>\n",
       "      <th></th>\n",
       "    </tr>\n",
       "  </thead>\n",
       "  <tbody>\n",
       "    <tr>\n",
       "      <th>7.0</th>\n",
       "      <td>32</td>\n",
       "    </tr>\n",
       "    <tr>\n",
       "      <th>4.0</th>\n",
       "      <td>45</td>\n",
       "    </tr>\n",
       "    <tr>\n",
       "      <th>5.0</th>\n",
       "      <td>130</td>\n",
       "    </tr>\n",
       "    <tr>\n",
       "      <th>2.0</th>\n",
       "      <td>377</td>\n",
       "    </tr>\n",
       "    <tr>\n",
       "      <th>3.0</th>\n",
       "      <td>498</td>\n",
       "    </tr>\n",
       "    <tr>\n",
       "      <th>6.0</th>\n",
       "      <td>1535</td>\n",
       "    </tr>\n",
       "    <tr>\n",
       "      <th>1.0</th>\n",
       "      <td>1957</td>\n",
       "    </tr>\n",
       "  </tbody>\n",
       "</table>\n",
       "</div>"
      ],
      "text/plain": [
       "                Count\n",
       "primary_toilet       \n",
       "7.0                32\n",
       "4.0                45\n",
       "5.0               130\n",
       "2.0               377\n",
       "3.0               498\n",
       "6.0              1535\n",
       "1.0              1957"
      ]
     },
     "execution_count": 57,
     "metadata": {},
     "output_type": "execute_result"
    }
   ],
   "source": [
    "toilet_dist=imputed_data.groupby(\"primary_toilet\").diseases.agg(Count=(lambda x: (x==1).sum()))\n",
    "toilet_dist.sort_values(by='Count')\n"
   ]
  },
  {
   "cell_type": "code",
   "execution_count": 58,
   "id": "50eca2ff",
   "metadata": {},
   "outputs": [],
   "source": [
    "#people using toilet with water(primary_toilet=1) has got disease among people using other primary_toilet "
   ]
  },
  {
   "cell_type": "code",
   "execution_count": 59,
   "id": "a9603bf7",
   "metadata": {},
   "outputs": [
    {
     "data": {
      "text/plain": [
       "6.0    78101\n",
       "1.0    29937\n",
       "2.0    17031\n",
       "3.0     6487\n",
       "5.0     3719\n",
       "7.0     2209\n",
       "4.0     1548\n",
       "Name: primary_toilet, dtype: int64"
      ]
     },
     "execution_count": 59,
     "metadata": {},
     "output_type": "execute_result"
    }
   ],
   "source": [
    "imputed_data[\"primary_toilet\"].value_counts()"
   ]
  },
  {
   "cell_type": "code",
   "execution_count": 60,
   "id": "9548af14",
   "metadata": {},
   "outputs": [],
   "source": [
    "#Most of the people do not use toilet"
   ]
  },
  {
   "cell_type": "code",
   "execution_count": 61,
   "id": "8aab66e0",
   "metadata": {},
   "outputs": [
    {
     "data": {
      "text/html": [
       "<div>\n",
       "<style scoped>\n",
       "    .dataframe tbody tr th:only-of-type {\n",
       "        vertical-align: middle;\n",
       "    }\n",
       "\n",
       "    .dataframe tbody tr th {\n",
       "        vertical-align: top;\n",
       "    }\n",
       "\n",
       "    .dataframe thead th {\n",
       "        text-align: right;\n",
       "    }\n",
       "</style>\n",
       "<table border=\"1\" class=\"dataframe\">\n",
       "  <thead>\n",
       "    <tr style=\"text-align: right;\">\n",
       "      <th></th>\n",
       "      <th>Count</th>\n",
       "    </tr>\n",
       "    <tr>\n",
       "      <th>alcohol_consumption</th>\n",
       "      <th></th>\n",
       "    </tr>\n",
       "  </thead>\n",
       "  <tbody>\n",
       "    <tr>\n",
       "      <th>Yes</th>\n",
       "      <td>201</td>\n",
       "    </tr>\n",
       "    <tr>\n",
       "      <th>No</th>\n",
       "      <td>4373</td>\n",
       "    </tr>\n",
       "  </tbody>\n",
       "</table>\n",
       "</div>"
      ],
      "text/plain": [
       "                     Count\n",
       "alcohol_consumption       \n",
       "Yes                    201\n",
       "No                    4373"
      ]
     },
     "execution_count": 61,
     "metadata": {},
     "output_type": "execute_result"
    }
   ],
   "source": [
    "alcohol_cons=imputed_data.groupby(\"alcohol_consumption\").diseases.agg(Count=(lambda x: (x==1).sum()))\n",
    "alcohol_cons.sort_values(by='Count')"
   ]
  },
  {
   "cell_type": "code",
   "execution_count": 62,
   "id": "3b25326f",
   "metadata": {},
   "outputs": [],
   "source": [
    "#Most of the patients having disease do not consume alcohol"
   ]
  },
  {
   "cell_type": "code",
   "execution_count": 63,
   "id": "88c47b59",
   "metadata": {},
   "outputs": [
    {
     "data": {
      "text/html": [
       "<div>\n",
       "<style scoped>\n",
       "    .dataframe tbody tr th:only-of-type {\n",
       "        vertical-align: middle;\n",
       "    }\n",
       "\n",
       "    .dataframe tbody tr th {\n",
       "        vertical-align: top;\n",
       "    }\n",
       "\n",
       "    .dataframe thead th {\n",
       "        text-align: right;\n",
       "    }\n",
       "</style>\n",
       "<table border=\"1\" class=\"dataframe\">\n",
       "  <thead>\n",
       "    <tr style=\"text-align: right;\">\n",
       "      <th></th>\n",
       "      <th>Count</th>\n",
       "    </tr>\n",
       "    <tr>\n",
       "      <th>tobacco_consumption</th>\n",
       "      <th></th>\n",
       "    </tr>\n",
       "  </thead>\n",
       "  <tbody>\n",
       "    <tr>\n",
       "      <th>In past/sometimes</th>\n",
       "      <td>316</td>\n",
       "    </tr>\n",
       "    <tr>\n",
       "      <th>Daily</th>\n",
       "      <td>416</td>\n",
       "    </tr>\n",
       "    <tr>\n",
       "      <th>Never</th>\n",
       "      <td>3842</td>\n",
       "    </tr>\n",
       "  </tbody>\n",
       "</table>\n",
       "</div>"
      ],
      "text/plain": [
       "                     Count\n",
       "tobacco_consumption       \n",
       "In past/sometimes      316\n",
       "Daily                  416\n",
       "Never                 3842"
      ]
     },
     "execution_count": 63,
     "metadata": {},
     "output_type": "execute_result"
    }
   ],
   "source": [
    "tobacco_cons=imputed_data.groupby(\"tobacco_consumption\").diseases.agg(Count=(lambda x: (x==1).sum()))\n",
    "tobacco_cons.sort_values(by='Count')"
   ]
  },
  {
   "cell_type": "code",
   "execution_count": 64,
   "id": "920287d6",
   "metadata": {},
   "outputs": [],
   "source": [
    "#Most of the patients having disease never consumed tobacco"
   ]
  },
  {
   "cell_type": "code",
   "execution_count": 65,
   "id": "ae173850",
   "metadata": {},
   "outputs": [
    {
     "data": {
      "text/html": [
       "<div>\n",
       "<style scoped>\n",
       "    .dataframe tbody tr th:only-of-type {\n",
       "        vertical-align: middle;\n",
       "    }\n",
       "\n",
       "    .dataframe tbody tr th {\n",
       "        vertical-align: top;\n",
       "    }\n",
       "\n",
       "    .dataframe thead th {\n",
       "        text-align: right;\n",
       "    }\n",
       "</style>\n",
       "<table border=\"1\" class=\"dataframe\">\n",
       "  <thead>\n",
       "    <tr style=\"text-align: right;\">\n",
       "      <th></th>\n",
       "      <th>primary_toilet</th>\n",
       "      <th>primary_drinking_water</th>\n",
       "    </tr>\n",
       "  </thead>\n",
       "  <tbody>\n",
       "    <tr>\n",
       "      <th>primary_toilet</th>\n",
       "      <td>1.000000</td>\n",
       "      <td>0.301022</td>\n",
       "    </tr>\n",
       "    <tr>\n",
       "      <th>primary_drinking_water</th>\n",
       "      <td>0.301022</td>\n",
       "      <td>1.000000</td>\n",
       "    </tr>\n",
       "  </tbody>\n",
       "</table>\n",
       "</div>"
      ],
      "text/plain": [
       "                        primary_toilet  primary_drinking_water\n",
       "primary_toilet                1.000000                0.301022\n",
       "primary_drinking_water        0.301022                1.000000"
      ]
     },
     "execution_count": 65,
     "metadata": {},
     "output_type": "execute_result"
    }
   ],
   "source": [
    "#Correlation between primary_toilet & drinking water\n",
    "imputed_data[[\"primary_toilet\", \"primary_drinking_water\"]].corr()"
   ]
  },
  {
   "cell_type": "markdown",
   "id": "c237fb3d",
   "metadata": {},
   "source": [
    "# Visualisations of the data"
   ]
  },
  {
   "cell_type": "code",
   "execution_count": 66,
   "id": "33213158",
   "metadata": {
    "scrolled": true
   },
   "outputs": [
    {
     "data": {
      "text/plain": [
       "<function matplotlib.pyplot.show(close=None, block=None)>"
      ]
     },
     "execution_count": 66,
     "metadata": {},
     "output_type": "execute_result"
    },
    {
     "data": {
      "image/png": "[encoded data removed]",
      "text/plain": [
       "<Figure size 1440x1440 with 12 Axes>"
      ]
     },
     "metadata": {
      "needs_background": "light"
     },
     "output_type": "display_data"
    }
   ],
   "source": [
    "imputed_data.hist(figsize=(20,20))\n",
    "plt.show"
   ]
  },
  {
   "cell_type": "code",
   "execution_count": 67,
   "id": "62b88123",
   "metadata": {},
   "outputs": [
    {
     "data": {
      "text/plain": [
       "<AxesSubplot:xlabel='diseases', ylabel='count'>"
      ]
     },
     "execution_count": 67,
     "metadata": {},
     "output_type": "execute_result"
    },
    {
     "data": {
      "image/png": "[encoded data removed]",
      "text/plain": [
       "<Figure size 432x288 with 1 Axes>"
      ]
     },
     "metadata": {
      "needs_background": "light"
     },
     "output_type": "display_data"
    }
   ],
   "source": [
    "sns.countplot(x='diseases', data=imputed_data)"
   ]
  },
  {
   "cell_type": "code",
   "execution_count": 68,
   "id": "f31b29e8",
   "metadata": {},
   "outputs": [],
   "source": [
    "#visualising the features & their relation with the target(has disease or no disease)"
   ]
  },
  {
   "cell_type": "code",
   "execution_count": 69,
   "id": "dccc2f2d",
   "metadata": {},
   "outputs": [
    {
     "data": {
      "image/png": "[encoded data removed]",
      "text/plain": [
       "<Figure size 432x288 with 1 Axes>"
      ]
     },
     "metadata": {
      "needs_background": "light"
     },
     "output_type": "display_data"
    }
   ],
   "source": [
    "# Distribution of age \n",
    "sns.kdeplot(data=imputed_data, x=\"age\", hue=\"diseases\")\n",
    "plt.show()"
   ]
  },
  {
   "cell_type": "code",
   "execution_count": 70,
   "id": "0c9daf92",
   "metadata": {},
   "outputs": [],
   "source": [
    "#it is seen that kde plot of age of people having disease varies in same maner as the people without disease"
   ]
  },
  {
   "cell_type": "code",
   "execution_count": 71,
   "id": "d6747316",
   "metadata": {},
   "outputs": [
    {
     "data": {
      "text/plain": [
       "<seaborn.axisgrid.FacetGrid at 0x1d99c10f820>"
      ]
     },
     "execution_count": 71,
     "metadata": {},
     "output_type": "execute_result"
    },
    {
     "data": {
      "image/png": "[encoded data removed]",
      "text/plain": [
       "<Figure size 411.375x360 with 1 Axes>"
      ]
     },
     "metadata": {
      "needs_background": "light"
     },
     "output_type": "display_data"
    }
   ],
   "source": [
    "#Relation between age & gender\n",
    "sns.catplot(data=imputed_data, x='gender', y=\"age\",hue='diseases', kind='box')"
   ]
  },
  {
   "cell_type": "code",
   "execution_count": 72,
   "id": "7389d26e",
   "metadata": {},
   "outputs": [
    {
     "data": {
      "text/plain": [
       "0.10     8.0\n",
       "0.23    16.0\n",
       "0.50    30.0\n",
       "0.75    38.0\n",
       "0.90    58.0\n",
       "0.95    66.0\n",
       "Name: age, dtype: float64"
      ]
     },
     "execution_count": 72,
     "metadata": {},
     "output_type": "execute_result"
    }
   ],
   "source": [
    "#it is seen that age has many outliers\n",
    "#outlier treatment\n",
    "imputed_data.age.quantile([0.1, 0.23,0.5,0.75,0.9,0.95])"
   ]
  },
  {
   "cell_type": "code",
   "execution_count": 73,
   "id": "ca968977",
   "metadata": {},
   "outputs": [],
   "source": [
    "#removing all the rows having age values above 95th percentile\n",
    "imputed_data.drop(imputed_data[imputed_data['age']>66].index,inplace=True)"
   ]
  },
  {
   "cell_type": "code",
   "execution_count": 74,
   "id": "359e91a1",
   "metadata": {},
   "outputs": [
    {
     "data": {
      "text/plain": [
       "<Figure size 1152x576 with 0 Axes>"
      ]
     },
     "metadata": {},
     "output_type": "display_data"
    },
    {
     "data": {
      "image/png": "[encoded data removed]",
      "text/plain": [
       "<Figure size 432x288 with 2 Axes>"
      ]
     },
     "metadata": {},
     "output_type": "display_data"
    }
   ],
   "source": [
    "#Distribution of gender\n",
    "plt.figure(figsize=[16,8])\n",
    "sns.set(style=\"darkgrid\")\n",
    "\n",
    "\n",
    "fig,(ax1,ax2)=plt.subplots(2, sharex=True,gridspec_kw={\"height_ratios\":(.25,.5)})\n",
    "\n",
    "sns.histplot(imputed_data[imputed_data['diseases']==1][\"gender\"],ax=ax1,color='red',bins=5, alpha=1)\n",
    "sns.histplot(imputed_data[imputed_data['diseases']==0][\"gender\"],ax=ax2,color='blue',bins=5, alpha=0.5)\n",
    "\n",
    "ax1.set(xlabel=\"Gender\")\n",
    "ax1.set_title(\"Gender-wise count of disease\")\n",
    "\n",
    "plt.show()\n"
   ]
  },
  {
   "cell_type": "code",
   "execution_count": 75,
   "id": "b147628c",
   "metadata": {},
   "outputs": [
    {
     "data": {
      "image/png": "[encoded data removed]",
      "text/plain": [
       "<Figure size 432x288 with 1 Axes>"
      ]
     },
     "metadata": {},
     "output_type": "display_data"
    }
   ],
   "source": [
    "sns.countplot(x=\"sdh_occupational_risk\", hue=\"diseases\", data=imputed_data, palette='rocket')\n",
    "plt.show()"
   ]
  },
  {
   "cell_type": "code",
   "execution_count": 76,
   "id": "b73057c7",
   "metadata": {},
   "outputs": [],
   "source": [
    "#Major risk of occupation of people having disease & not having disease is 'none'"
   ]
  },
  {
   "cell_type": "code",
   "execution_count": 77,
   "id": "1c09c492",
   "metadata": {},
   "outputs": [
    {
     "data": {
      "image/png": "[encoded data removed]",
      "text/plain": [
       "<Figure size 432x288 with 1 Axes>"
      ]
     },
     "metadata": {},
     "output_type": "display_data"
    }
   ],
   "source": [
    "sns.countplot(x=\"primary_cooking_fuel\", hue=\"diseases\", data=imputed_data, palette='rocket')\n",
    "plt.show()"
   ]
  },
  {
   "cell_type": "code",
   "execution_count": 78,
   "id": "a5b4e2e2",
   "metadata": {},
   "outputs": [],
   "source": [
    "#LPG is the cooking fuel widely used by patients having disease"
   ]
  },
  {
   "cell_type": "code",
   "execution_count": 79,
   "id": "23689561",
   "metadata": {},
   "outputs": [
    {
     "data": {
      "text/plain": [
       "<Figure size 1152x576 with 0 Axes>"
      ]
     },
     "metadata": {},
     "output_type": "display_data"
    },
    {
     "data": {
      "image/png": "[encoded data removed]",
      "text/plain": [
       "<Figure size 1152x576 with 1 Axes>"
      ]
     },
     "metadata": {},
     "output_type": "display_data"
    }
   ],
   "source": [
    "plt.figure(figsize=[16,8])\n",
    "sns.set(style=\"darkgrid\")\n",
    "\n",
    "\n",
    "fig,ax1=plt.subplots(figsize=[16,8])\n",
    "\n",
    "ax1.hist(imputed_data[imputed_data['diseases']==1][\"primary_drinking_water\"],color='red',bins=11, alpha=1)\n",
    "ax1.hist(imputed_data[imputed_data['diseases']==0][\"primary_drinking_water\"],color='blue',bins=11, alpha=0.5)\n",
    "\n",
    "ax1.set(xlabel=\"primary_drinking_water\")\n",
    "ax1.set_title(\"Effect of drinking water\")\n",
    "\n",
    "plt.show()\n"
   ]
  },
  {
   "cell_type": "code",
   "execution_count": 80,
   "id": "96fc939e",
   "metadata": {},
   "outputs": [],
   "source": [
    "g=pd.crosstab(imputed_data[\"alcohol_consumption\"],imputed_data[\"diseases\"])\n"
   ]
  },
  {
   "cell_type": "code",
   "execution_count": 81,
   "id": "5eaf1f18",
   "metadata": {},
   "outputs": [
    {
     "data": {
      "text/plain": [
       "<AxesSubplot:xlabel='alcohol_consumption'>"
      ]
     },
     "execution_count": 81,
     "metadata": {},
     "output_type": "execute_result"
    },
    {
     "data": {
      "image/png": "[encoded data removed]",
      "text/plain": [
       "<Figure size 432x288 with 1 Axes>"
      ]
     },
     "metadata": {},
     "output_type": "display_data"
    }
   ],
   "source": [
    "g.plot(kind='bar',stacked=True,color=['green','yellow'])"
   ]
  },
  {
   "cell_type": "code",
   "execution_count": 82,
   "id": "56468292",
   "metadata": {},
   "outputs": [
    {
     "data": {
      "text/plain": [
       "<AxesSubplot:xlabel='primary_toilet', ylabel='primary_drinking_water'>"
      ]
     },
     "execution_count": 82,
     "metadata": {},
     "output_type": "execute_result"
    },
    {
     "data": {
      "image/png": "[encoded data removed]",
      "text/plain": [
       "<Figure size 432x288 with 1 Axes>"
      ]
     },
     "metadata": {},
     "output_type": "display_data"
    }
   ],
   "source": [
    "sns.regplot(x=\"primary_toilet\", y=\"primary_drinking_water\", data=imputed_data)"
   ]
  },
  {
   "cell_type": "code",
   "execution_count": 83,
   "id": "b739612a",
   "metadata": {},
   "outputs": [
    {
     "data": {
      "text/plain": [
       "<AxesSubplot:xlabel='primary_toilet', ylabel='primary_electricity'>"
      ]
     },
     "execution_count": 83,
     "metadata": {},
     "output_type": "execute_result"
    },
    {
     "data": {
      "image/png": "[encoded data removed]",
      "text/plain": [
       "<Figure size 432x288 with 1 Axes>"
      ]
     },
     "metadata": {},
     "output_type": "display_data"
    }
   ],
   "source": [
    "sns.regplot(x=\"primary_toilet\", y=\"primary_electricity\", data=imputed_data)"
   ]
  },
  {
   "cell_type": "code",
   "execution_count": 84,
   "id": "2b3b13c9",
   "metadata": {},
   "outputs": [],
   "source": [
    "#there is weak positive relation between primary_toilet & primary_electricity"
   ]
  },
  {
   "cell_type": "code",
   "execution_count": 85,
   "id": "8c164382",
   "metadata": {},
   "outputs": [],
   "source": [
    "#Heatmap to find correlation"
   ]
  },
  {
   "cell_type": "code",
   "execution_count": 86,
   "id": "9132df2a",
   "metadata": {},
   "outputs": [
    {
     "data": {
      "text/plain": [
       "<AxesSubplot:>"
      ]
     },
     "execution_count": 86,
     "metadata": {},
     "output_type": "execute_result"
    },
    {
     "data": {
      "image/png": "[encoded data removed]",
      "text/plain": [
       "<Figure size 1440x720 with 2 Axes>"
      ]
     },
     "metadata": {},
     "output_type": "display_data"
    }
   ],
   "source": [
    "plt.figure(figsize=(20,10))\n",
    "sns.heatmap(imputed_data.corr(),annot=True, cmap='terrain')"
   ]
  },
  {
   "cell_type": "code",
   "execution_count": 87,
   "id": "672d069c",
   "metadata": {},
   "outputs": [],
   "source": [
    "#we observe weak positive correlation between disease & age\n",
    "#we observe weak negative correlation between disease & primary_toilet,primary_drinking_water,primary_electriccity"
   ]
  },
  {
   "cell_type": "code",
   "execution_count": 88,
   "id": "e6a412fd",
   "metadata": {},
   "outputs": [
    {
     "data": {
      "text/html": [
       "<div>\n",
       "<style scoped>\n",
       "    .dataframe tbody tr th:only-of-type {\n",
       "        vertical-align: middle;\n",
       "    }\n",
       "\n",
       "    .dataframe tbody tr th {\n",
       "        vertical-align: top;\n",
       "    }\n",
       "\n",
       "    .dataframe thead th {\n",
       "        text-align: right;\n",
       "    }\n",
       "</style>\n",
       "<table border=\"1\" class=\"dataframe\">\n",
       "  <thead>\n",
       "    <tr style=\"text-align: right;\">\n",
       "      <th></th>\n",
       "      <th>tobacco_consumption</th>\n",
       "      <th>alcohol_consumption</th>\n",
       "      <th>sdh_occupational_risk</th>\n",
       "      <th>gender</th>\n",
       "      <th>religion</th>\n",
       "      <th>caste</th>\n",
       "      <th>is_literate</th>\n",
       "      <th>age</th>\n",
       "      <th>education_status</th>\n",
       "      <th>occupation_status</th>\n",
       "      <th>primary_cooking_fuel</th>\n",
       "      <th>primary_drinking_water</th>\n",
       "      <th>primary_toilet</th>\n",
       "      <th>primary_transport</th>\n",
       "      <th>toilet_usage_status</th>\n",
       "      <th>primary_electricity</th>\n",
       "      <th>primary_house_material</th>\n",
       "      <th>diseases</th>\n",
       "    </tr>\n",
       "  </thead>\n",
       "  <tbody>\n",
       "    <tr>\n",
       "      <th>0</th>\n",
       "      <td>In past/sometimes</td>\n",
       "      <td>Yes</td>\n",
       "      <td>9.0</td>\n",
       "      <td>M</td>\n",
       "      <td>1</td>\n",
       "      <td>3</td>\n",
       "      <td>Yes</td>\n",
       "      <td>30</td>\n",
       "      <td>2.0</td>\n",
       "      <td>5.0</td>\n",
       "      <td>1</td>\n",
       "      <td>5.0</td>\n",
       "      <td>6.0</td>\n",
       "      <td>1</td>\n",
       "      <td>1.0</td>\n",
       "      <td>1.0</td>\n",
       "      <td>1</td>\n",
       "      <td>0</td>\n",
       "    </tr>\n",
       "    <tr>\n",
       "      <th>1</th>\n",
       "      <td>Never</td>\n",
       "      <td>No</td>\n",
       "      <td>9.0</td>\n",
       "      <td>F</td>\n",
       "      <td>1</td>\n",
       "      <td>3</td>\n",
       "      <td>No</td>\n",
       "      <td>2</td>\n",
       "      <td>2.0</td>\n",
       "      <td>5.0</td>\n",
       "      <td>1</td>\n",
       "      <td>5.0</td>\n",
       "      <td>6.0</td>\n",
       "      <td>1</td>\n",
       "      <td>1.0</td>\n",
       "      <td>1.0</td>\n",
       "      <td>1</td>\n",
       "      <td>0</td>\n",
       "    </tr>\n",
       "    <tr>\n",
       "      <th>2</th>\n",
       "      <td>In past/sometimes</td>\n",
       "      <td>Yes</td>\n",
       "      <td>9.0</td>\n",
       "      <td>F</td>\n",
       "      <td>1</td>\n",
       "      <td>3</td>\n",
       "      <td>Yes</td>\n",
       "      <td>29</td>\n",
       "      <td>3.0</td>\n",
       "      <td>9.0</td>\n",
       "      <td>1</td>\n",
       "      <td>5.0</td>\n",
       "      <td>6.0</td>\n",
       "      <td>1</td>\n",
       "      <td>1.0</td>\n",
       "      <td>1.0</td>\n",
       "      <td>1</td>\n",
       "      <td>0</td>\n",
       "    </tr>\n",
       "    <tr>\n",
       "      <th>4</th>\n",
       "      <td>In past/sometimes</td>\n",
       "      <td>Yes</td>\n",
       "      <td>9.0</td>\n",
       "      <td>M</td>\n",
       "      <td>1</td>\n",
       "      <td>3</td>\n",
       "      <td>Yes</td>\n",
       "      <td>22</td>\n",
       "      <td>2.0</td>\n",
       "      <td>5.0</td>\n",
       "      <td>1</td>\n",
       "      <td>5.0</td>\n",
       "      <td>6.0</td>\n",
       "      <td>1</td>\n",
       "      <td>1.0</td>\n",
       "      <td>6.0</td>\n",
       "      <td>1</td>\n",
       "      <td>0</td>\n",
       "    </tr>\n",
       "    <tr>\n",
       "      <th>5</th>\n",
       "      <td>Never</td>\n",
       "      <td>No</td>\n",
       "      <td>9.0</td>\n",
       "      <td>F</td>\n",
       "      <td>1</td>\n",
       "      <td>3</td>\n",
       "      <td>Yes</td>\n",
       "      <td>24</td>\n",
       "      <td>3.0</td>\n",
       "      <td>9.0</td>\n",
       "      <td>1</td>\n",
       "      <td>5.0</td>\n",
       "      <td>6.0</td>\n",
       "      <td>1</td>\n",
       "      <td>1.0</td>\n",
       "      <td>6.0</td>\n",
       "      <td>1</td>\n",
       "      <td>0</td>\n",
       "    </tr>\n",
       "  </tbody>\n",
       "</table>\n",
       "</div>"
      ],
      "text/plain": [
       "  tobacco_consumption alcohol_consumption  sdh_occupational_risk gender  \\\n",
       "0   In past/sometimes                 Yes                    9.0      M   \n",
       "1               Never                  No                    9.0      F   \n",
       "2   In past/sometimes                 Yes                    9.0      F   \n",
       "4   In past/sometimes                 Yes                    9.0      M   \n",
       "5               Never                  No                    9.0      F   \n",
       "\n",
       "   religion  caste is_literate  age  education_status occupation_status  \\\n",
       "0         1      3         Yes   30               2.0               5.0   \n",
       "1         1      3          No    2               2.0               5.0   \n",
       "2         1      3         Yes   29               3.0               9.0   \n",
       "4         1      3         Yes   22               2.0               5.0   \n",
       "5         1      3         Yes   24               3.0               9.0   \n",
       "\n",
       "  primary_cooking_fuel  primary_drinking_water  primary_toilet  \\\n",
       "0                    1                     5.0             6.0   \n",
       "1                    1                     5.0             6.0   \n",
       "2                    1                     5.0             6.0   \n",
       "4                    1                     5.0             6.0   \n",
       "5                    1                     5.0             6.0   \n",
       "\n",
       "  primary_transport  toilet_usage_status  primary_electricity  \\\n",
       "0                 1                  1.0                  1.0   \n",
       "1                 1                  1.0                  1.0   \n",
       "2                 1                  1.0                  1.0   \n",
       "4                 1                  1.0                  6.0   \n",
       "5                 1                  1.0                  6.0   \n",
       "\n",
       "  primary_house_material  diseases  \n",
       "0                      1         0  \n",
       "1                      1         0  \n",
       "2                      1         0  \n",
       "4                      1         0  \n",
       "5                      1         0  "
      ]
     },
     "execution_count": 88,
     "metadata": {},
     "output_type": "execute_result"
    }
   ],
   "source": [
    "imputed_data.head()"
   ]
  },
  {
   "cell_type": "code",
   "execution_count": 89,
   "id": "45133ef5",
   "metadata": {},
   "outputs": [],
   "source": [
    "#Training & testing the data\n",
    "from sklearn.model_selection import train_test_split"
   ]
  },
  {
   "cell_type": "code",
   "execution_count": 90,
   "id": "7e8e412a",
   "metadata": {},
   "outputs": [],
   "source": [
    "imputed_data['gender']=imputed_data['gender'].replace(['M'],0)\n",
    "imputed_data['gender']=imputed_data['gender'].replace(['F'],1)\n",
    "imputed_data['alcohol_consumption']=imputed_data['alcohol_consumption'].replace(['Yes'],1)\n",
    "imputed_data['alcohol_consumption']=imputed_data['alcohol_consumption'].replace(['No'],0)\n",
    "imputed_data['is_literate']=imputed_data['is_literate'].replace(['No'],0)\n",
    "imputed_data['is_literate']=imputed_data['is_literate'].replace(['Yes'],1)"
   ]
  },
  {
   "cell_type": "code",
   "execution_count": 91,
   "id": "2db5209e",
   "metadata": {},
   "outputs": [],
   "source": [
    "#get dummy values for tobacco_consumption\n",
    "list=['tobacco_consumption']"
   ]
  },
  {
   "cell_type": "code",
   "execution_count": 92,
   "id": "d9a71f4d",
   "metadata": {},
   "outputs": [],
   "source": [
    "imp_data=imputed_data.copy()"
   ]
  },
  {
   "cell_type": "code",
   "execution_count": 93,
   "id": "7e35e758",
   "metadata": {},
   "outputs": [],
   "source": [
    "imp_data=pd.get_dummies(imp_data,columns=list)"
   ]
  },
  {
   "cell_type": "code",
   "execution_count": 94,
   "id": "a2e0d455",
   "metadata": {},
   "outputs": [
    {
     "data": {
      "text/html": [
       "<div>\n",
       "<style scoped>\n",
       "    .dataframe tbody tr th:only-of-type {\n",
       "        vertical-align: middle;\n",
       "    }\n",
       "\n",
       "    .dataframe tbody tr th {\n",
       "        vertical-align: top;\n",
       "    }\n",
       "\n",
       "    .dataframe thead th {\n",
       "        text-align: right;\n",
       "    }\n",
       "</style>\n",
       "<table border=\"1\" class=\"dataframe\">\n",
       "  <thead>\n",
       "    <tr style=\"text-align: right;\">\n",
       "      <th></th>\n",
       "      <th>alcohol_consumption</th>\n",
       "      <th>sdh_occupational_risk</th>\n",
       "      <th>gender</th>\n",
       "      <th>religion</th>\n",
       "      <th>caste</th>\n",
       "      <th>is_literate</th>\n",
       "      <th>age</th>\n",
       "      <th>education_status</th>\n",
       "      <th>occupation_status</th>\n",
       "      <th>primary_cooking_fuel</th>\n",
       "      <th>primary_drinking_water</th>\n",
       "      <th>primary_toilet</th>\n",
       "      <th>primary_transport</th>\n",
       "      <th>toilet_usage_status</th>\n",
       "      <th>primary_electricity</th>\n",
       "      <th>primary_house_material</th>\n",
       "      <th>diseases</th>\n",
       "      <th>tobacco_consumption_Daily</th>\n",
       "      <th>tobacco_consumption_In past/sometimes</th>\n",
       "      <th>tobacco_consumption_Never</th>\n",
       "    </tr>\n",
       "  </thead>\n",
       "  <tbody>\n",
       "    <tr>\n",
       "      <th>0</th>\n",
       "      <td>1</td>\n",
       "      <td>9.0</td>\n",
       "      <td>0</td>\n",
       "      <td>1</td>\n",
       "      <td>3</td>\n",
       "      <td>1</td>\n",
       "      <td>30</td>\n",
       "      <td>2.0</td>\n",
       "      <td>5.0</td>\n",
       "      <td>1</td>\n",
       "      <td>5.0</td>\n",
       "      <td>6.0</td>\n",
       "      <td>1</td>\n",
       "      <td>1.0</td>\n",
       "      <td>1.0</td>\n",
       "      <td>1</td>\n",
       "      <td>0</td>\n",
       "      <td>0</td>\n",
       "      <td>1</td>\n",
       "      <td>0</td>\n",
       "    </tr>\n",
       "    <tr>\n",
       "      <th>1</th>\n",
       "      <td>0</td>\n",
       "      <td>9.0</td>\n",
       "      <td>1</td>\n",
       "      <td>1</td>\n",
       "      <td>3</td>\n",
       "      <td>0</td>\n",
       "      <td>2</td>\n",
       "      <td>2.0</td>\n",
       "      <td>5.0</td>\n",
       "      <td>1</td>\n",
       "      <td>5.0</td>\n",
       "      <td>6.0</td>\n",
       "      <td>1</td>\n",
       "      <td>1.0</td>\n",
       "      <td>1.0</td>\n",
       "      <td>1</td>\n",
       "      <td>0</td>\n",
       "      <td>0</td>\n",
       "      <td>0</td>\n",
       "      <td>1</td>\n",
       "    </tr>\n",
       "    <tr>\n",
       "      <th>2</th>\n",
       "      <td>1</td>\n",
       "      <td>9.0</td>\n",
       "      <td>1</td>\n",
       "      <td>1</td>\n",
       "      <td>3</td>\n",
       "      <td>1</td>\n",
       "      <td>29</td>\n",
       "      <td>3.0</td>\n",
       "      <td>9.0</td>\n",
       "      <td>1</td>\n",
       "      <td>5.0</td>\n",
       "      <td>6.0</td>\n",
       "      <td>1</td>\n",
       "      <td>1.0</td>\n",
       "      <td>1.0</td>\n",
       "      <td>1</td>\n",
       "      <td>0</td>\n",
       "      <td>0</td>\n",
       "      <td>1</td>\n",
       "      <td>0</td>\n",
       "    </tr>\n",
       "    <tr>\n",
       "      <th>4</th>\n",
       "      <td>1</td>\n",
       "      <td>9.0</td>\n",
       "      <td>0</td>\n",
       "      <td>1</td>\n",
       "      <td>3</td>\n",
       "      <td>1</td>\n",
       "      <td>22</td>\n",
       "      <td>2.0</td>\n",
       "      <td>5.0</td>\n",
       "      <td>1</td>\n",
       "      <td>5.0</td>\n",
       "      <td>6.0</td>\n",
       "      <td>1</td>\n",
       "      <td>1.0</td>\n",
       "      <td>6.0</td>\n",
       "      <td>1</td>\n",
       "      <td>0</td>\n",
       "      <td>0</td>\n",
       "      <td>1</td>\n",
       "      <td>0</td>\n",
       "    </tr>\n",
       "    <tr>\n",
       "      <th>5</th>\n",
       "      <td>0</td>\n",
       "      <td>9.0</td>\n",
       "      <td>1</td>\n",
       "      <td>1</td>\n",
       "      <td>3</td>\n",
       "      <td>1</td>\n",
       "      <td>24</td>\n",
       "      <td>3.0</td>\n",
       "      <td>9.0</td>\n",
       "      <td>1</td>\n",
       "      <td>5.0</td>\n",
       "      <td>6.0</td>\n",
       "      <td>1</td>\n",
       "      <td>1.0</td>\n",
       "      <td>6.0</td>\n",
       "      <td>1</td>\n",
       "      <td>0</td>\n",
       "      <td>0</td>\n",
       "      <td>0</td>\n",
       "      <td>1</td>\n",
       "    </tr>\n",
       "  </tbody>\n",
       "</table>\n",
       "</div>"
      ],
      "text/plain": [
       "   alcohol_consumption  sdh_occupational_risk  gender  religion  caste  \\\n",
       "0                    1                    9.0       0         1      3   \n",
       "1                    0                    9.0       1         1      3   \n",
       "2                    1                    9.0       1         1      3   \n",
       "4                    1                    9.0       0         1      3   \n",
       "5                    0                    9.0       1         1      3   \n",
       "\n",
       "   is_literate  age  education_status occupation_status primary_cooking_fuel  \\\n",
       "0            1   30               2.0               5.0                    1   \n",
       "1            0    2               2.0               5.0                    1   \n",
       "2            1   29               3.0               9.0                    1   \n",
       "4            1   22               2.0               5.0                    1   \n",
       "5            1   24               3.0               9.0                    1   \n",
       "\n",
       "   primary_drinking_water  primary_toilet primary_transport  \\\n",
       "0                     5.0             6.0                 1   \n",
       "1                     5.0             6.0                 1   \n",
       "2                     5.0             6.0                 1   \n",
       "4                     5.0             6.0                 1   \n",
       "5                     5.0             6.0                 1   \n",
       "\n",
       "   toilet_usage_status  primary_electricity primary_house_material  diseases  \\\n",
       "0                  1.0                  1.0                      1         0   \n",
       "1                  1.0                  1.0                      1         0   \n",
       "2                  1.0                  1.0                      1         0   \n",
       "4                  1.0                  6.0                      1         0   \n",
       "5                  1.0                  6.0                      1         0   \n",
       "\n",
       "   tobacco_consumption_Daily  tobacco_consumption_In past/sometimes  \\\n",
       "0                          0                                      1   \n",
       "1                          0                                      0   \n",
       "2                          0                                      1   \n",
       "4                          0                                      1   \n",
       "5                          0                                      0   \n",
       "\n",
       "   tobacco_consumption_Never  \n",
       "0                          0  \n",
       "1                          1  \n",
       "2                          0  \n",
       "4                          0  \n",
       "5                          1  "
      ]
     },
     "execution_count": 94,
     "metadata": {},
     "output_type": "execute_result"
    }
   ],
   "source": [
    "imp_data.head()"
   ]
  },
  {
   "cell_type": "code",
   "execution_count": 95,
   "id": "f9d080a7",
   "metadata": {},
   "outputs": [],
   "source": [
    "y2 = imp_data['diseases']\n",
    "X2 = imp_data.drop(\"diseases\",axis=1)"
   ]
  },
  {
   "cell_type": "code",
   "execution_count": 96,
   "id": "e4118131",
   "metadata": {},
   "outputs": [],
   "source": [
    "X_train, X_test, y_train, y_test = train_test_split(X2, y2, test_size = 0.2, random_state=40)"
   ]
  },
  {
   "cell_type": "code",
   "execution_count": 97,
   "id": "13c344b8",
   "metadata": {},
   "outputs": [
    {
     "data": {
      "text/plain": [
       "0    25783\n",
       "1      749\n",
       "Name: diseases, dtype: int64"
      ]
     },
     "execution_count": 97,
     "metadata": {},
     "output_type": "execute_result"
    }
   ],
   "source": [
    "y_test.value_counts()"
   ]
  },
  {
   "cell_type": "code",
   "execution_count": 98,
   "id": "122c8b76",
   "metadata": {},
   "outputs": [
    {
     "data": {
      "text/plain": [
       "0    103151\n",
       "1      2973\n",
       "Name: diseases, dtype: int64"
      ]
     },
     "execution_count": 98,
     "metadata": {},
     "output_type": "execute_result"
    }
   ],
   "source": [
    "y_train.value_counts()"
   ]
  },
  {
   "cell_type": "code",
   "execution_count": 99,
   "id": "caa796c0",
   "metadata": {},
   "outputs": [],
   "source": [
    "#Scaling the data\n",
    "from sklearn.preprocessing import StandardScaler\n",
    "SC=StandardScaler()\n"
   ]
  },
  {
   "cell_type": "code",
   "execution_count": 100,
   "id": "28873aac",
   "metadata": {},
   "outputs": [],
   "source": [
    "X_train = SC.fit_transform(X_train)\n",
    "X_test = SC.transform(X_test)"
   ]
  },
  {
   "cell_type": "code",
   "execution_count": 101,
   "id": "b49982b7",
   "metadata": {},
   "outputs": [],
   "source": [
    "#Logistic Regression"
   ]
  },
  {
   "cell_type": "code",
   "execution_count": 102,
   "id": "dd6821bb",
   "metadata": {},
   "outputs": [],
   "source": [
    "from sklearn.linear_model import LogisticRegression\n",
    "lr=LogisticRegression()"
   ]
  },
  {
   "cell_type": "code",
   "execution_count": 103,
   "id": "c19ad0c3",
   "metadata": {},
   "outputs": [],
   "source": [
    "model1=lr.fit(X_train,y_train)"
   ]
  },
  {
   "cell_type": "code",
   "execution_count": 104,
   "id": "b86ef4fb",
   "metadata": {},
   "outputs": [],
   "source": [
    "y_pred=model1.predict(X_test)"
   ]
  },
  {
   "cell_type": "code",
   "execution_count": 105,
   "id": "50209d89",
   "metadata": {},
   "outputs": [
    {
     "data": {
      "text/plain": [
       "0.9718076285240465"
      ]
     },
     "execution_count": 105,
     "metadata": {},
     "output_type": "execute_result"
    }
   ],
   "source": [
    "from sklearn.metrics import accuracy_score\n",
    "accuracy_score(y_test,y_pred)"
   ]
  },
  {
   "cell_type": "markdown",
   "id": "ebe039eb",
   "metadata": {},
   "source": [
    "from sklearn.metrics import r2_score\n",
    "r2_score(y_test,y_pred)"
   ]
  },
  {
   "cell_type": "code",
   "execution_count": 112,
   "id": "8a940224",
   "metadata": {},
   "outputs": [
    {
     "data": {
      "text/plain": [
       "array([[25783,     0],\n",
       "       [  748,     1]], dtype=int64)"
      ]
     },
     "execution_count": 112,
     "metadata": {},
     "output_type": "execute_result"
    }
   ],
   "source": [
    "from sklearn.metrics import confusion_matrix\n",
    "cm=confusion_matrix(y_test,y_pred)\n",
    "cm"
   ]
  },
  {
   "cell_type": "code",
   "execution_count": 125,
   "id": "e5a1ce9a",
   "metadata": {},
   "outputs": [
    {
     "name": "stdout",
     "output_type": "stream",
     "text": [
      "Accuracy of the Random Forest model is 0.9718076285240465\n"
     ]
    },
    {
     "data": {
      "image/png": "[encoded data removed]",
      "text/plain": [
       "<Figure size 432x288 with 2 Axes>"
      ]
     },
     "metadata": {},
     "output_type": "display_data"
    }
   ],
   "source": [
    "sns.heatmap(cm, annot=True, cmap='BuPu')\n",
    "\n",
    "ax.set_xlabel('\\nPredicted Values')\n",
    "ax.set_ylabel('Actual Values ')\n",
    "\n",
    "score = accuracy_score(y_test, y_pred)\n",
    "print(\"Accuracy of the Random Forest model is\", score)\n",
    "plt.show()"
   ]
  },
  {
   "cell_type": "code",
   "execution_count": 116,
   "id": "9ebdc389",
   "metadata": {},
   "outputs": [
    {
     "name": "stdout",
     "output_type": "stream",
     "text": [
      "              precision    recall  f1-score   support\n",
      "\n",
      "           0       0.97      1.00      0.99     25783\n",
      "           1       1.00      0.00      0.00       749\n",
      "\n",
      "    accuracy                           0.97     26532\n",
      "   macro avg       0.99      0.50      0.49     26532\n",
      "weighted avg       0.97      0.97      0.96     26532\n",
      "\n"
     ]
    }
   ],
   "source": [
    "from sklearn.metrics import classification_report\n",
    "print(classification_report(y_test,y_pred))"
   ]
  },
  {
   "cell_type": "code",
   "execution_count": 117,
   "id": "44f19cba",
   "metadata": {},
   "outputs": [],
   "source": [
    "#Random forest Classifier"
   ]
  },
  {
   "cell_type": "code",
   "execution_count": 118,
   "id": "5cc30217",
   "metadata": {},
   "outputs": [],
   "source": [
    "from sklearn.ensemble import RandomForestClassifier\n",
    "from sklearn import metrics"
   ]
  },
  {
   "cell_type": "code",
   "execution_count": 119,
   "id": "5073724b",
   "metadata": {},
   "outputs": [
    {
     "name": "stdout",
     "output_type": "stream",
     "text": [
      "Accuracy of Random forest classifier is 0.9702246344037389\n"
     ]
    }
   ],
   "source": [
    "clf = RandomForestClassifier(n_estimators = 100) \n",
    "clf.fit(X_train, y_train)\n",
    "y_pred2 = clf.predict(X_test)\n",
    "score=metrics.accuracy_score(y_test, y_pred2)\n",
    "print(\"Accuracy of Random forest classifier is\", score)\n"
   ]
  },
  {
   "cell_type": "code",
   "execution_count": 120,
   "id": "9373dbf8",
   "metadata": {},
   "outputs": [
    {
     "name": "stdout",
     "output_type": "stream",
     "text": [
      "              precision    recall  f1-score   support\n",
      "\n",
      "           0       0.97      1.00      0.98     25783\n",
      "           1       0.40      0.11      0.18       749\n",
      "\n",
      "    accuracy                           0.97     26532\n",
      "   macro avg       0.69      0.55      0.58     26532\n",
      "weighted avg       0.96      0.97      0.96     26532\n",
      "\n"
     ]
    }
   ],
   "source": [
    "print(classification_report(y_test,y_pred2))"
   ]
  },
  {
   "cell_type": "code",
   "execution_count": 121,
   "id": "ba42620c",
   "metadata": {},
   "outputs": [
    {
     "data": {
      "text/plain": [
       "array([[25658,   125],\n",
       "       [  665,    84]], dtype=int64)"
      ]
     },
     "execution_count": 121,
     "metadata": {},
     "output_type": "execute_result"
    }
   ],
   "source": [
    "cm2=confusion_matrix(y_test,y_pred2)\n",
    "cm2"
   ]
  },
  {
   "cell_type": "code",
   "execution_count": 122,
   "id": "f4290977",
   "metadata": {},
   "outputs": [
    {
     "data": {
      "text/plain": [
       "Text(39.5, 0.5, 'Actual Values ')"
      ]
     },
     "execution_count": 122,
     "metadata": {},
     "output_type": "execute_result"
    },
    {
     "data": {
      "image/png": "[encoded data removed]",
      "text/plain": [
       "<Figure size 504x360 with 2 Axes>"
      ]
     },
     "metadata": {},
     "output_type": "display_data"
    }
   ],
   "source": [
    "plt.figure(figsize=(7,5))\n",
    "\n",
    "ax = sns.heatmap(cm2/np.sum(cm2),fmt='.2%', annot=True, cmap='Blues')\n",
    "\n",
    "ax.set_xlabel('\\nPredicted Values')\n",
    "ax.set_ylabel('Actual Values ')\n",
    "\n"
   ]
  },
  {
   "cell_type": "code",
   "execution_count": 123,
   "id": "464d7248",
   "metadata": {},
   "outputs": [
    {
     "name": "stdout",
     "output_type": "stream",
     "text": [
      "Accuracy of the decision tree model is 0.9532639831147294\n"
     ]
    }
   ],
   "source": [
    "from sklearn.tree import DecisionTreeClassifier\n",
    "model3=DecisionTreeClassifier()\n",
    "model3=model3.fit(X_train,y_train)\n",
    "y_pred3=model3.predict(X_test)\n",
    "score=accuracy_score(y_test,y_pred3)\n",
    "print(\"Accuracy of the decision tree model is\", score)"
   ]
  },
  {
   "cell_type": "code",
   "execution_count": 124,
   "id": "ee387432",
   "metadata": {},
   "outputs": [
    {
     "data": {
      "image/png": "[encoded data removed]",
      "text/plain": [
       "<Figure size 504x360 with 2 Axes>"
      ]
     },
     "metadata": {},
     "output_type": "display_data"
    }
   ],
   "source": [
    "cm3 = confusion_matrix(y_test, y_pred3)\n",
    "\n",
    "plt.figure(figsize=(7,5))\n",
    "\n",
    "ax = sns.heatmap(cm3/np.sum(cm3),fmt='.2%', annot=True, cmap='Greens')\n",
    "\n",
    "ax.set_xlabel('\\nPredicted Values')\n",
    "ax.set_ylabel('Actual Values ');\n",
    "\n",
    "ax.xaxis.set_ticklabels(['No Disease','Disease'])\n",
    "ax.yaxis.set_ticklabels(['No Disease','Disease'])\n",
    "\n",
    "plt.show()"
   ]
  },
  {
   "cell_type": "code",
   "execution_count": null,
   "id": "44949def",
   "metadata": {},
   "outputs": [],
   "source": []
  }
 ],
 "metadata": {
  "kernelspec": {
   "display_name": "Python 3 (ipykernel)",
   "language": "python",
   "name": "python3"
  },
  "language_info": {
   "codemirror_mode": {
    "name": "ipython",
    "version": 3
   },
   "file_extension": ".py",
   "mimetype": "text/x-python",
   "name": "python",
   "nbconvert_exporter": "python",
   "pygments_lexer": "ipython3",
   "version": "3.9.7"
  }
 },
 "nbformat": 4,
 "nbformat_minor": 5
}
